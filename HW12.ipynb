{
  "cells": [
    {
      "cell_type": "markdown",
      "source": [
        "B0829027 鄭星逸"
      ],
      "metadata": {
        "id": "2PExOrKkmFRe"
      }
    },
    {
      "cell_type": "markdown",
      "metadata": {
        "id": "Va2Wt1YCWFMr"
      },
      "source": [
        "This is a companion notebook for the book [Deep Learning with Python, Second Edition](https://www.manning.com/books/deep-learning-with-python-second-edition?a_aid=keras&a_bid=76564dff). For readability, it only contains runnable code blocks and section titles, and omits everything else in the book: text paragraphs, figures, and pseudocode.\n",
        "\n",
        "**If you want to be able to follow what's going on, I recommend reading the notebook side by side with your copy of the book.**\n",
        "\n",
        "This notebook was generated for TensorFlow 2.6."
      ]
    },
    {
      "cell_type": "markdown",
      "metadata": {
        "id": "vJLsVDU1WFMu"
      },
      "source": [
        "### Processing words as a sequence: The sequence model approach"
      ]
    },
    {
      "cell_type": "markdown",
      "metadata": {
        "id": "PdQO-JD4WFMu"
      },
      "source": [
        "#### A first practical example"
      ]
    },
    {
      "cell_type": "markdown",
      "metadata": {
        "id": "CMRva2QSWFMu"
      },
      "source": [
        "**Downloading the data**"
      ]
    },
    {
      "cell_type": "code",
      "execution_count": 1,
      "metadata": {
        "colab": {
          "base_uri": "https://localhost:8080/"
        },
        "id": "JCXpR0PcWFMu",
        "outputId": "e1cc021d-7fee-4b30-f121-38320f5b6c24"
      },
      "outputs": [
        {
          "output_type": "stream",
          "name": "stdout",
          "text": [
            "  % Total    % Received % Xferd  Average Speed   Time    Time     Time  Current\n",
            "                                 Dload  Upload   Total   Spent    Left  Speed\n",
            "100 80.2M  100 80.2M    0     0  8701k      0  0:00:09  0:00:09 --:--:-- 15.7M\n"
          ]
        }
      ],
      "source": [
        "!curl -O https://ai.stanford.edu/~amaas/data/sentiment/aclImdb_v1.tar.gz\n",
        "!tar -xf aclImdb_v1.tar.gz\n",
        "!rm -r aclImdb/train/unsup"
      ]
    },
    {
      "cell_type": "markdown",
      "metadata": {
        "id": "jvK4P_1VWFMv"
      },
      "source": [
        "**Preparing the data**"
      ]
    },
    {
      "cell_type": "code",
      "execution_count": 2,
      "metadata": {
        "colab": {
          "base_uri": "https://localhost:8080/"
        },
        "id": "ej8HqjmsWFMv",
        "outputId": "3c9a81c2-824b-44b0-d61e-c3e9a8308abb"
      },
      "outputs": [
        {
          "output_type": "stream",
          "name": "stdout",
          "text": [
            "Found 20000 files belonging to 2 classes.\n",
            "Found 5000 files belonging to 2 classes.\n",
            "Found 25000 files belonging to 2 classes.\n"
          ]
        }
      ],
      "source": [
        "import os, pathlib, shutil, random\n",
        "from tensorflow import keras\n",
        "batch_size = 32\n",
        "base_dir = pathlib.Path(\"aclImdb\")\n",
        "val_dir = base_dir / \"val\"\n",
        "train_dir = base_dir / \"train\"\n",
        "for category in (\"neg\", \"pos\"):\n",
        "    os.makedirs(val_dir / category)\n",
        "    files = os.listdir(train_dir / category)\n",
        "    random.Random(1337).shuffle(files)\n",
        "    num_val_samples = int(0.2 * len(files))\n",
        "    val_files = files[-num_val_samples:]\n",
        "    for fname in val_files:\n",
        "        shutil.move(train_dir / category / fname,\n",
        "                    val_dir / category / fname)\n",
        "\n",
        "train_ds = keras.utils.text_dataset_from_directory(\n",
        "    \"aclImdb/train\", batch_size=batch_size\n",
        ")\n",
        "val_ds = keras.utils.text_dataset_from_directory(\n",
        "    \"aclImdb/val\", batch_size=batch_size\n",
        ")\n",
        "test_ds = keras.utils.text_dataset_from_directory(\n",
        "    \"aclImdb/test\", batch_size=batch_size\n",
        ")\n",
        "text_only_train_ds = train_ds.map(lambda x, y: x)"
      ]
    },
    {
      "cell_type": "markdown",
      "metadata": {
        "id": "fwZTluxxWFMw"
      },
      "source": [
        "**Preparing integer sequence datasets**"
      ]
    },
    {
      "cell_type": "code",
      "execution_count": 3,
      "metadata": {
        "id": "OqrbOmp8WFMw"
      },
      "outputs": [],
      "source": [
        "from tensorflow.keras import layers\n",
        "\n",
        "max_length = 600\n",
        "max_tokens = 20000\n",
        "text_vectorization = layers.TextVectorization(\n",
        "    max_tokens=max_tokens,\n",
        "    output_mode=\"int\",\n",
        "    output_sequence_length=max_length,\n",
        ")\n",
        "text_vectorization.adapt(text_only_train_ds)\n",
        "\n",
        "int_train_ds = train_ds.map(\n",
        "    lambda x, y: (text_vectorization(x), y),\n",
        "    num_parallel_calls=4)\n",
        "int_val_ds = val_ds.map(\n",
        "    lambda x, y: (text_vectorization(x), y),\n",
        "    num_parallel_calls=4)\n",
        "int_test_ds = test_ds.map(\n",
        "    lambda x, y: (text_vectorization(x), y),\n",
        "    num_parallel_calls=4)"
      ]
    },
    {
      "cell_type": "markdown",
      "metadata": {
        "id": "cFt7JiXJWFMx"
      },
      "source": [
        "**A sequence model built on one-hot encoded vector sequences**"
      ]
    },
    {
      "cell_type": "code",
      "execution_count": 4,
      "metadata": {
        "colab": {
          "base_uri": "https://localhost:8080/"
        },
        "id": "1Zoodl6WWFMx",
        "outputId": "7f178de1-7fef-40e7-dce1-de46fe46ed1f"
      },
      "outputs": [
        {
          "output_type": "stream",
          "name": "stdout",
          "text": [
            "Model: \"model\"\n",
            "_________________________________________________________________\n",
            " Layer (type)                Output Shape              Param #   \n",
            "=================================================================\n",
            " input_1 (InputLayer)        [(None, None)]            0         \n",
            "                                                                 \n",
            " tf.one_hot (TFOpLambda)     (None, None, 20000)       0         \n",
            "                                                                 \n",
            " bidirectional (Bidirectiona  (None, 64)               5128448   \n",
            " l)                                                              \n",
            "                                                                 \n",
            " dropout (Dropout)           (None, 64)                0         \n",
            "                                                                 \n",
            " dense (Dense)               (None, 1)                 65        \n",
            "                                                                 \n",
            "=================================================================\n",
            "Total params: 5,128,513\n",
            "Trainable params: 5,128,513\n",
            "Non-trainable params: 0\n",
            "_________________________________________________________________\n"
          ]
        }
      ],
      "source": [
        "import tensorflow as tf\n",
        "inputs = keras.Input(shape=(None,), dtype=\"int64\")\n",
        "embedded = tf.one_hot(inputs, depth=max_tokens)\n",
        "x = layers.Bidirectional(layers.LSTM(32))(embedded)\n",
        "x = layers.Dropout(0.5)(x)\n",
        "outputs = layers.Dense(1, activation=\"sigmoid\")(x)\n",
        "model = keras.Model(inputs, outputs)\n",
        "model.compile(optimizer=\"rmsprop\",\n",
        "              loss=\"binary_crossentropy\",\n",
        "              metrics=[\"accuracy\"])\n",
        "model.summary()"
      ]
    },
    {
      "cell_type": "markdown",
      "metadata": {
        "id": "zNXilXl0WFMx"
      },
      "source": [
        "**Training a first basic sequence model**"
      ]
    },
    {
      "cell_type": "code",
      "execution_count": 5,
      "metadata": {
        "colab": {
          "base_uri": "https://localhost:8080/"
        },
        "id": "Fo6QerYhWFMy",
        "outputId": "e22aeb0e-0b0e-4000-8c0c-920d97baa64a"
      },
      "outputs": [
        {
          "output_type": "stream",
          "name": "stdout",
          "text": [
            "Epoch 1/10\n",
            "625/625 [==============================] - 166s 252ms/step - loss: 0.5402 - accuracy: 0.7386 - val_loss: 0.5107 - val_accuracy: 0.7262\n",
            "Epoch 2/10\n",
            "625/625 [==============================] - 166s 266ms/step - loss: 0.3532 - accuracy: 0.8697 - val_loss: 0.3879 - val_accuracy: 0.8344\n",
            "Epoch 3/10\n",
            "625/625 [==============================] - 168s 269ms/step - loss: 0.2754 - accuracy: 0.9026 - val_loss: 0.3653 - val_accuracy: 0.8754\n",
            "Epoch 4/10\n",
            "625/625 [==============================] - 167s 268ms/step - loss: 0.2339 - accuracy: 0.9186 - val_loss: 0.2985 - val_accuracy: 0.8844\n",
            "Epoch 5/10\n",
            "625/625 [==============================] - 168s 269ms/step - loss: 0.2045 - accuracy: 0.9319 - val_loss: 0.3447 - val_accuracy: 0.8898\n",
            "Epoch 6/10\n",
            "625/625 [==============================] - 168s 269ms/step - loss: 0.1806 - accuracy: 0.9384 - val_loss: 0.3349 - val_accuracy: 0.8850\n",
            "Epoch 7/10\n",
            "625/625 [==============================] - 169s 270ms/step - loss: 0.1573 - accuracy: 0.9478 - val_loss: 0.3012 - val_accuracy: 0.8834\n",
            "Epoch 8/10\n",
            "625/625 [==============================] - 168s 269ms/step - loss: 0.1349 - accuracy: 0.9560 - val_loss: 0.3196 - val_accuracy: 0.8870\n",
            "Epoch 9/10\n",
            "625/625 [==============================] - 168s 269ms/step - loss: 0.1208 - accuracy: 0.9620 - val_loss: 0.3507 - val_accuracy: 0.8856\n",
            "Epoch 10/10\n",
            "625/625 [==============================] - 168s 269ms/step - loss: 0.1066 - accuracy: 0.9657 - val_loss: 0.4172 - val_accuracy: 0.8884\n",
            "782/782 [==============================] - 102s 130ms/step - loss: 0.3202 - accuracy: 0.8690\n",
            "Test acc: 0.869\n"
          ]
        }
      ],
      "source": [
        "callbacks = [\n",
        "    keras.callbacks.ModelCheckpoint(\"one_hot_bidir_lstm.keras\",\n",
        "                                    save_best_only=True)\n",
        "]\n",
        "model.fit(int_train_ds, validation_data=int_val_ds, epochs=10, callbacks=callbacks)\n",
        "model = keras.models.load_model(\"one_hot_bidir_lstm.keras\")\n",
        "print(f\"Test acc: {model.evaluate(int_test_ds)[1]:.3f}\")"
      ]
    },
    {
      "cell_type": "markdown",
      "metadata": {
        "id": "lxbZfJOgWFMy"
      },
      "source": [
        "#### Understanding word embeddings"
      ]
    },
    {
      "cell_type": "markdown",
      "metadata": {
        "id": "ohjkNpOGWFMy"
      },
      "source": [
        "#### Learning word embeddings with the Embedding layer"
      ]
    },
    {
      "cell_type": "markdown",
      "metadata": {
        "id": "TxbhcJYaWFMy"
      },
      "source": [
        "**Instantiating an `Embedding` layer**"
      ]
    },
    {
      "cell_type": "code",
      "execution_count": 6,
      "metadata": {
        "id": "qDPB0uF5WFMy"
      },
      "outputs": [],
      "source": [
        "embedding_layer = layers.Embedding(input_dim=max_tokens, output_dim=256)"
      ]
    },
    {
      "cell_type": "markdown",
      "metadata": {
        "id": "VYLSlxeaWFMy"
      },
      "source": [
        "**Model that uses an `Embedding` layer trained from scratch**"
      ]
    },
    {
      "cell_type": "code",
      "execution_count": 7,
      "metadata": {
        "colab": {
          "base_uri": "https://localhost:8080/"
        },
        "id": "hTPUMY2FWFMy",
        "outputId": "cc90c650-0f2e-4322-f918-a61cef0b2013"
      },
      "outputs": [
        {
          "output_type": "stream",
          "name": "stdout",
          "text": [
            "Model: \"model_1\"\n",
            "_________________________________________________________________\n",
            " Layer (type)                Output Shape              Param #   \n",
            "=================================================================\n",
            " input_2 (InputLayer)        [(None, None)]            0         \n",
            "                                                                 \n",
            " embedding_1 (Embedding)     (None, None, 256)         5120000   \n",
            "                                                                 \n",
            " bidirectional_1 (Bidirectio  (None, 64)               73984     \n",
            " nal)                                                            \n",
            "                                                                 \n",
            " dropout_1 (Dropout)         (None, 64)                0         \n",
            "                                                                 \n",
            " dense_1 (Dense)             (None, 1)                 65        \n",
            "                                                                 \n",
            "=================================================================\n",
            "Total params: 5,194,049\n",
            "Trainable params: 5,194,049\n",
            "Non-trainable params: 0\n",
            "_________________________________________________________________\n",
            "Epoch 1/10\n",
            "625/625 [==============================] - 37s 54ms/step - loss: 0.4794 - accuracy: 0.7858 - val_loss: 0.3870 - val_accuracy: 0.8354\n",
            "Epoch 2/10\n",
            "625/625 [==============================] - 33s 52ms/step - loss: 0.3161 - accuracy: 0.8816 - val_loss: 0.3394 - val_accuracy: 0.8688\n",
            "Epoch 3/10\n",
            "625/625 [==============================] - 33s 52ms/step - loss: 0.2448 - accuracy: 0.9146 - val_loss: 0.3186 - val_accuracy: 0.8722\n",
            "Epoch 4/10\n",
            "625/625 [==============================] - 33s 53ms/step - loss: 0.2055 - accuracy: 0.9290 - val_loss: 0.3122 - val_accuracy: 0.8762\n",
            "Epoch 5/10\n",
            "625/625 [==============================] - 33s 52ms/step - loss: 0.1722 - accuracy: 0.9398 - val_loss: 0.3407 - val_accuracy: 0.8740\n",
            "Epoch 6/10\n",
            "625/625 [==============================] - 33s 53ms/step - loss: 0.1450 - accuracy: 0.9536 - val_loss: 0.3139 - val_accuracy: 0.8816\n",
            "Epoch 7/10\n",
            "625/625 [==============================] - 33s 52ms/step - loss: 0.1270 - accuracy: 0.9602 - val_loss: 0.3654 - val_accuracy: 0.8818\n",
            "Epoch 8/10\n",
            "625/625 [==============================] - 33s 53ms/step - loss: 0.1123 - accuracy: 0.9642 - val_loss: 0.3466 - val_accuracy: 0.8692\n",
            "Epoch 9/10\n",
            "625/625 [==============================] - 33s 53ms/step - loss: 0.0881 - accuracy: 0.9728 - val_loss: 0.6444 - val_accuracy: 0.7988\n",
            "Epoch 10/10\n",
            "625/625 [==============================] - 33s 53ms/step - loss: 0.0802 - accuracy: 0.9754 - val_loss: 0.4443 - val_accuracy: 0.8824\n",
            "782/782 [==============================] - 27s 33ms/step - loss: 0.3708 - accuracy: 0.8518\n",
            "Test acc: 0.852\n"
          ]
        }
      ],
      "source": [
        "inputs = keras.Input(shape=(None,), dtype=\"int64\")\n",
        "embedded = layers.Embedding(input_dim=max_tokens, output_dim=256)(inputs)\n",
        "x = layers.Bidirectional(layers.LSTM(32))(embedded)\n",
        "x = layers.Dropout(0.5)(x)\n",
        "outputs = layers.Dense(1, activation=\"sigmoid\")(x)\n",
        "model = keras.Model(inputs, outputs)\n",
        "model.compile(optimizer=\"rmsprop\",\n",
        "              loss=\"binary_crossentropy\",\n",
        "              metrics=[\"accuracy\"])\n",
        "model.summary()\n",
        "\n",
        "callbacks = [\n",
        "    keras.callbacks.ModelCheckpoint(\"embeddings_bidir_gru.keras\",\n",
        "                                    save_best_only=True)\n",
        "]\n",
        "model.fit(int_train_ds, validation_data=int_val_ds, epochs=10, callbacks=callbacks)\n",
        "model = keras.models.load_model(\"embeddings_bidir_gru.keras\")\n",
        "print(f\"Test acc: {model.evaluate(int_test_ds)[1]:.3f}\")"
      ]
    },
    {
      "cell_type": "markdown",
      "metadata": {
        "id": "O_gdqV8JWFMz"
      },
      "source": [
        "#### Understanding padding and masking"
      ]
    },
    {
      "cell_type": "markdown",
      "metadata": {
        "id": "y537tgcvWFMz"
      },
      "source": [
        "**Using an `Embedding` layer with masking enabled**"
      ]
    },
    {
      "cell_type": "code",
      "execution_count": 8,
      "metadata": {
        "colab": {
          "base_uri": "https://localhost:8080/"
        },
        "id": "rmh1PDc6WFMz",
        "outputId": "0493609c-182c-4a03-8c28-9cd021cbccba"
      },
      "outputs": [
        {
          "output_type": "stream",
          "name": "stdout",
          "text": [
            "Model: \"model_2\"\n",
            "_________________________________________________________________\n",
            " Layer (type)                Output Shape              Param #   \n",
            "=================================================================\n",
            " input_3 (InputLayer)        [(None, None)]            0         \n",
            "                                                                 \n",
            " embedding_2 (Embedding)     (None, None, 256)         5120000   \n",
            "                                                                 \n",
            " bidirectional_2 (Bidirectio  (None, 64)               73984     \n",
            " nal)                                                            \n",
            "                                                                 \n",
            " dropout_2 (Dropout)         (None, 64)                0         \n",
            "                                                                 \n",
            " dense_2 (Dense)             (None, 1)                 65        \n",
            "                                                                 \n",
            "=================================================================\n",
            "Total params: 5,194,049\n",
            "Trainable params: 5,194,049\n",
            "Non-trainable params: 0\n",
            "_________________________________________________________________\n",
            "Epoch 1/10\n",
            "625/625 [==============================] - 40s 54ms/step - loss: 0.4050 - accuracy: 0.8181 - val_loss: 0.3346 - val_accuracy: 0.8540\n",
            "Epoch 2/10\n",
            "625/625 [==============================] - 33s 53ms/step - loss: 0.2343 - accuracy: 0.9104 - val_loss: 0.2699 - val_accuracy: 0.8928\n",
            "Epoch 3/10\n",
            "625/625 [==============================] - 32s 51ms/step - loss: 0.1661 - accuracy: 0.9370 - val_loss: 0.3126 - val_accuracy: 0.8752\n",
            "Epoch 4/10\n",
            "625/625 [==============================] - 32s 51ms/step - loss: 0.1237 - accuracy: 0.9553 - val_loss: 0.3141 - val_accuracy: 0.8792\n",
            "Epoch 5/10\n",
            "625/625 [==============================] - 32s 51ms/step - loss: 0.0919 - accuracy: 0.9685 - val_loss: 0.3397 - val_accuracy: 0.8776\n",
            "Epoch 6/10\n",
            "625/625 [==============================] - 34s 54ms/step - loss: 0.0681 - accuracy: 0.9770 - val_loss: 0.4766 - val_accuracy: 0.8608\n",
            "Epoch 7/10\n",
            "625/625 [==============================] - 33s 52ms/step - loss: 0.0509 - accuracy: 0.9835 - val_loss: 0.4643 - val_accuracy: 0.8590\n",
            "Epoch 8/10\n",
            "625/625 [==============================] - 34s 54ms/step - loss: 0.0375 - accuracy: 0.9880 - val_loss: 0.4661 - val_accuracy: 0.8654\n",
            "Epoch 9/10\n",
            "625/625 [==============================] - 34s 54ms/step - loss: 0.0306 - accuracy: 0.9898 - val_loss: 0.5535 - val_accuracy: 0.8642\n",
            "Epoch 10/10\n",
            "625/625 [==============================] - 33s 53ms/step - loss: 0.0205 - accuracy: 0.9937 - val_loss: 0.5902 - val_accuracy: 0.8668\n",
            "782/782 [==============================] - 25s 29ms/step - loss: 0.2883 - accuracy: 0.8843\n",
            "Test acc: 0.884\n"
          ]
        }
      ],
      "source": [
        "inputs = keras.Input(shape=(None,), dtype=\"int64\")\n",
        "embedded = layers.Embedding(\n",
        "    input_dim=max_tokens, output_dim=256, mask_zero=True)(inputs)\n",
        "x = layers.Bidirectional(layers.LSTM(32))(embedded)\n",
        "x = layers.Dropout(0.5)(x)\n",
        "outputs = layers.Dense(1, activation=\"sigmoid\")(x)\n",
        "model = keras.Model(inputs, outputs)\n",
        "model.compile(optimizer=\"rmsprop\",\n",
        "              loss=\"binary_crossentropy\",\n",
        "              metrics=[\"accuracy\"])\n",
        "model.summary()\n",
        "\n",
        "callbacks = [\n",
        "    keras.callbacks.ModelCheckpoint(\"embeddings_bidir_gru_with_masking.keras\",\n",
        "                                    save_best_only=True)\n",
        "]\n",
        "model.fit(int_train_ds, validation_data=int_val_ds, epochs=10, callbacks=callbacks)\n",
        "model = keras.models.load_model(\"embeddings_bidir_gru_with_masking.keras\")\n",
        "print(f\"Test acc: {model.evaluate(int_test_ds)[1]:.3f}\")"
      ]
    },
    {
      "cell_type": "markdown",
      "metadata": {
        "id": "mQOzurZdWFMz"
      },
      "source": [
        "#### Using pretrained word embeddings"
      ]
    },
    {
      "cell_type": "code",
      "execution_count": 9,
      "metadata": {
        "colab": {
          "base_uri": "https://localhost:8080/"
        },
        "id": "ycR1B_s4WFMz",
        "outputId": "9e6de4b0-5ed2-474e-9ac1-3636fac2a8b1"
      },
      "outputs": [
        {
          "output_type": "stream",
          "name": "stdout",
          "text": [
            "--2022-12-13 12:45:20--  http://nlp.stanford.edu/data/glove.6B.zip\n",
            "Resolving nlp.stanford.edu (nlp.stanford.edu)... 171.64.67.140\n",
            "Connecting to nlp.stanford.edu (nlp.stanford.edu)|171.64.67.140|:80... connected.\n",
            "HTTP request sent, awaiting response... 302 Found\n",
            "Location: https://nlp.stanford.edu/data/glove.6B.zip [following]\n",
            "--2022-12-13 12:45:20--  https://nlp.stanford.edu/data/glove.6B.zip\n",
            "Connecting to nlp.stanford.edu (nlp.stanford.edu)|171.64.67.140|:443... connected.\n",
            "HTTP request sent, awaiting response... 301 Moved Permanently\n",
            "Location: https://downloads.cs.stanford.edu/nlp/data/glove.6B.zip [following]\n",
            "--2022-12-13 12:45:21--  https://downloads.cs.stanford.edu/nlp/data/glove.6B.zip\n",
            "Resolving downloads.cs.stanford.edu (downloads.cs.stanford.edu)... 171.64.64.22\n",
            "Connecting to downloads.cs.stanford.edu (downloads.cs.stanford.edu)|171.64.64.22|:443... connected.\n",
            "HTTP request sent, awaiting response... 200 OK\n",
            "Length: 862182613 (822M) [application/zip]\n",
            "Saving to: ‘glove.6B.zip’\n",
            "\n",
            "glove.6B.zip        100%[===================>] 822.24M  5.03MB/s    in 2m 41s  \n",
            "\n",
            "2022-12-13 12:48:03 (5.11 MB/s) - ‘glove.6B.zip’ saved [862182613/862182613]\n",
            "\n"
          ]
        }
      ],
      "source": [
        "!wget http://nlp.stanford.edu/data/glove.6B.zip\n",
        "!unzip -q glove.6B.zip"
      ]
    },
    {
      "cell_type": "markdown",
      "metadata": {
        "id": "CKAxMFF6WFMz"
      },
      "source": [
        "**Parsing the GloVe word-embeddings file**"
      ]
    },
    {
      "cell_type": "code",
      "execution_count": 10,
      "metadata": {
        "colab": {
          "base_uri": "https://localhost:8080/"
        },
        "id": "Qky_dRPLWFMz",
        "outputId": "01462898-2c4d-41fd-fe66-5b58506861ae"
      },
      "outputs": [
        {
          "output_type": "stream",
          "name": "stdout",
          "text": [
            "Found 400000 word vectors.\n"
          ]
        }
      ],
      "source": [
        "import numpy as np\n",
        "path_to_glove_file = \"glove.6B.100d.txt\"\n",
        "\n",
        "embeddings_index = {}\n",
        "with open(path_to_glove_file) as f:\n",
        "    for line in f:\n",
        "        word, coefs = line.split(maxsplit=1)\n",
        "        coefs = np.fromstring(coefs, \"f\", sep=\" \")\n",
        "        embeddings_index[word] = coefs\n",
        "\n",
        "print(f\"Found {len(embeddings_index)} word vectors.\")"
      ]
    },
    {
      "cell_type": "markdown",
      "metadata": {
        "id": "51fMr4i7WFM0"
      },
      "source": [
        "**Preparing the GloVe word-embeddings matrix**"
      ]
    },
    {
      "cell_type": "code",
      "execution_count": 11,
      "metadata": {
        "id": "3VW4DkF7WFM0"
      },
      "outputs": [],
      "source": [
        "embedding_dim = 100\n",
        "\n",
        "vocabulary = text_vectorization.get_vocabulary()\n",
        "word_index = dict(zip(vocabulary, range(len(vocabulary))))\n",
        "\n",
        "embedding_matrix = np.zeros((max_tokens, embedding_dim))\n",
        "for word, i in word_index.items():\n",
        "    if i < max_tokens:\n",
        "        embedding_vector = embeddings_index.get(word)\n",
        "    if embedding_vector is not None:\n",
        "        embedding_matrix[i] = embedding_vector"
      ]
    },
    {
      "cell_type": "code",
      "execution_count": 12,
      "metadata": {
        "id": "JvhrSI5IWFM0"
      },
      "outputs": [],
      "source": [
        "embedding_layer = layers.Embedding(\n",
        "    max_tokens,\n",
        "    embedding_dim,\n",
        "    embeddings_initializer=keras.initializers.Constant(embedding_matrix),\n",
        "    trainable=False,\n",
        "    mask_zero=True,\n",
        ")"
      ]
    },
    {
      "cell_type": "markdown",
      "metadata": {
        "id": "MAVNALW5WFM0"
      },
      "source": [
        "**Model that uses a pretrained Embedding layer**"
      ]
    },
    {
      "cell_type": "code",
      "execution_count": 13,
      "metadata": {
        "colab": {
          "base_uri": "https://localhost:8080/"
        },
        "id": "wqr2a6FKWFM0",
        "outputId": "ec705a83-9f5f-4f65-917a-92ff3f5233e4"
      },
      "outputs": [
        {
          "output_type": "stream",
          "name": "stdout",
          "text": [
            "Model: \"model_3\"\n",
            "_________________________________________________________________\n",
            " Layer (type)                Output Shape              Param #   \n",
            "=================================================================\n",
            " input_4 (InputLayer)        [(None, None)]            0         \n",
            "                                                                 \n",
            " embedding_3 (Embedding)     (None, None, 100)         2000000   \n",
            "                                                                 \n",
            " bidirectional_3 (Bidirectio  (None, 64)               34048     \n",
            " nal)                                                            \n",
            "                                                                 \n",
            " dropout_3 (Dropout)         (None, 64)                0         \n",
            "                                                                 \n",
            " dense_3 (Dense)             (None, 1)                 65        \n",
            "                                                                 \n",
            "=================================================================\n",
            "Total params: 2,034,113\n",
            "Trainable params: 34,113\n",
            "Non-trainable params: 2,000,000\n",
            "_________________________________________________________________\n",
            "Epoch 1/10\n",
            "625/625 [==============================] - 41s 55ms/step - loss: 0.5800 - accuracy: 0.6916 - val_loss: 0.4594 - val_accuracy: 0.7962\n",
            "Epoch 2/10\n",
            "625/625 [==============================] - 31s 50ms/step - loss: 0.4563 - accuracy: 0.7929 - val_loss: 0.4192 - val_accuracy: 0.8112\n",
            "Epoch 3/10\n",
            "625/625 [==============================] - 30s 47ms/step - loss: 0.4055 - accuracy: 0.8212 - val_loss: 0.4210 - val_accuracy: 0.8228\n",
            "Epoch 4/10\n",
            "625/625 [==============================] - 31s 50ms/step - loss: 0.3704 - accuracy: 0.8400 - val_loss: 0.3440 - val_accuracy: 0.8518\n",
            "Epoch 5/10\n",
            "625/625 [==============================] - 30s 47ms/step - loss: 0.3435 - accuracy: 0.8557 - val_loss: 0.3497 - val_accuracy: 0.8502\n",
            "Epoch 6/10\n",
            "625/625 [==============================] - 31s 50ms/step - loss: 0.3193 - accuracy: 0.8676 - val_loss: 0.3271 - val_accuracy: 0.8608\n",
            "Epoch 7/10\n",
            "625/625 [==============================] - 32s 51ms/step - loss: 0.3018 - accuracy: 0.8769 - val_loss: 0.3216 - val_accuracy: 0.8614\n",
            "Epoch 8/10\n",
            "625/625 [==============================] - 30s 47ms/step - loss: 0.2892 - accuracy: 0.8818 - val_loss: 0.3507 - val_accuracy: 0.8528\n",
            "Epoch 9/10\n",
            "625/625 [==============================] - 31s 50ms/step - loss: 0.2716 - accuracy: 0.8919 - val_loss: 0.3045 - val_accuracy: 0.8730\n",
            "Epoch 10/10\n",
            "625/625 [==============================] - 30s 47ms/step - loss: 0.2577 - accuracy: 0.8960 - val_loss: 0.3064 - val_accuracy: 0.8762\n",
            "782/782 [==============================] - 20s 23ms/step - loss: 0.2906 - accuracy: 0.8761\n",
            "Test acc: 0.876\n"
          ]
        }
      ],
      "source": [
        "inputs = keras.Input(shape=(None,), dtype=\"int64\")\n",
        "embedded = embedding_layer(inputs)\n",
        "x = layers.Bidirectional(layers.LSTM(32))(embedded)\n",
        "x = layers.Dropout(0.5)(x)\n",
        "outputs = layers.Dense(1, activation=\"sigmoid\")(x)\n",
        "model = keras.Model(inputs, outputs)\n",
        "model.compile(optimizer=\"rmsprop\",\n",
        "              loss=\"binary_crossentropy\",\n",
        "              metrics=[\"accuracy\"])\n",
        "model.summary()\n",
        "\n",
        "callbacks = [\n",
        "    keras.callbacks.ModelCheckpoint(\"glove_embeddings_sequence_model.keras\",\n",
        "                                    save_best_only=True)\n",
        "]\n",
        "model.fit(int_train_ds, validation_data=int_val_ds, epochs=10, callbacks=callbacks)\n",
        "model = keras.models.load_model(\"glove_embeddings_sequence_model.keras\")\n",
        "print(f\"Test acc: {model.evaluate(int_test_ds)[1]:.3f}\")"
      ]
    }
  ],
  "metadata": {
    "colab": {
      "provenance": []
    },
    "kernelspec": {
      "display_name": "Python 3",
      "language": "python",
      "name": "python3"
    },
    "language_info": {
      "codemirror_mode": {
        "name": "ipython",
        "version": 3
      },
      "file_extension": ".py",
      "mimetype": "text/x-python",
      "name": "python",
      "nbconvert_exporter": "python",
      "pygments_lexer": "ipython3",
      "version": "3.7.0"
    },
    "accelerator": "GPU",
    "gpuClass": "standard"
  },
  "nbformat": 4,
  "nbformat_minor": 0
}