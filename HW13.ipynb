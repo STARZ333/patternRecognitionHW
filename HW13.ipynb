{
  "cells": [
    {
      "cell_type": "markdown",
      "source": [
        "B0829027鄭星逸\n"
      ],
      "metadata": {
        "id": "ZoXBqW5EJiu7"
      }
    },
    {
      "cell_type": "markdown",
      "metadata": {
        "id": "1ueyE_rP92GE"
      },
      "source": [
        "This is a companion notebook for the book [Deep Learning with Python, Second Edition](https://www.manning.com/books/deep-learning-with-python-second-edition?a_aid=keras&a_bid=76564dff). For readability, it only contains runnable code blocks and section titles, and omits everything else in the book: text paragraphs, figures, and pseudocode.\n",
        "\n",
        "**If you want to be able to follow what's going on, I recommend reading the notebook side by side with your copy of the book.**\n",
        "\n",
        "This notebook was generated for TensorFlow 2.6."
      ]
    },
    {
      "cell_type": "markdown",
      "metadata": {
        "id": "r_xCycfK92GG"
      },
      "source": [
        "## The Transformer architecture"
      ]
    },
    {
      "cell_type": "markdown",
      "metadata": {
        "id": "a_x7Tmnk92GG"
      },
      "source": [
        "### Understanding self-attention"
      ]
    },
    {
      "cell_type": "markdown",
      "metadata": {
        "id": "u8j2woPL92GG"
      },
      "source": [
        "#### Generalized self-attention: the query-key-value model"
      ]
    },
    {
      "cell_type": "markdown",
      "metadata": {
        "id": "UsaKQQBC92GG"
      },
      "source": [
        "### Multi-head attention"
      ]
    },
    {
      "cell_type": "markdown",
      "metadata": {
        "id": "ZPN4rqfd92GG"
      },
      "source": [
        "### The Transformer encoder"
      ]
    },
    {
      "cell_type": "markdown",
      "metadata": {
        "id": "dBvSfrbU92GG"
      },
      "source": [
        "**Getting the data**"
      ]
    },
    {
      "cell_type": "code",
      "execution_count": 1,
      "metadata": {
        "colab": {
          "base_uri": "https://localhost:8080/"
        },
        "id": "uu4Yy85A92GH",
        "outputId": "15c03c94-3a1c-492b-bd13-deec21a5e60e"
      },
      "outputs": [
        {
          "output_type": "stream",
          "name": "stdout",
          "text": [
            "  % Total    % Received % Xferd  Average Speed   Time    Time     Time  Current\n",
            "                                 Dload  Upload   Total   Spent    Left  Speed\n",
            "100 80.2M  100 80.2M    0     0  31.6M      0  0:00:02  0:00:02 --:--:-- 31.6M\n"
          ]
        }
      ],
      "source": [
        "!curl -O https://ai.stanford.edu/~amaas/data/sentiment/aclImdb_v1.tar.gz\n",
        "!tar -xf aclImdb_v1.tar.gz\n",
        "!rm -r aclImdb/train/unsup"
      ]
    },
    {
      "cell_type": "markdown",
      "metadata": {
        "id": "zF_Fzp7k92GH"
      },
      "source": [
        "**Preparing the data**"
      ]
    },
    {
      "cell_type": "code",
      "execution_count": 2,
      "metadata": {
        "colab": {
          "base_uri": "https://localhost:8080/"
        },
        "id": "kvZifAlg92GH",
        "outputId": "072dad9c-aca6-467a-d653-7388a6c0d2c1"
      },
      "outputs": [
        {
          "output_type": "stream",
          "name": "stdout",
          "text": [
            "Found 20000 files belonging to 2 classes.\n",
            "Found 5000 files belonging to 2 classes.\n",
            "Found 25000 files belonging to 2 classes.\n"
          ]
        }
      ],
      "source": [
        "import os, pathlib, shutil, random\n",
        "from tensorflow import keras\n",
        "batch_size = 32\n",
        "base_dir = pathlib.Path(\"aclImdb\")\n",
        "val_dir = base_dir / \"val\"\n",
        "train_dir = base_dir / \"train\"\n",
        "for category in (\"neg\", \"pos\"):\n",
        "    os.makedirs(val_dir / category)\n",
        "    files = os.listdir(train_dir / category)\n",
        "    random.Random(1337).shuffle(files)\n",
        "    num_val_samples = int(0.2 * len(files))\n",
        "    val_files = files[-num_val_samples:]\n",
        "    for fname in val_files:\n",
        "        shutil.move(train_dir / category / fname,\n",
        "                    val_dir / category / fname)\n",
        "\n",
        "train_ds = keras.utils.text_dataset_from_directory(\n",
        "    \"aclImdb/train\", batch_size=batch_size\n",
        ")\n",
        "val_ds = keras.utils.text_dataset_from_directory(\n",
        "    \"aclImdb/val\", batch_size=batch_size\n",
        ")\n",
        "test_ds = keras.utils.text_dataset_from_directory(\n",
        "    \"aclImdb/test\", batch_size=batch_size\n",
        ")\n",
        "text_only_train_ds = train_ds.map(lambda x, y: x)"
      ]
    },
    {
      "cell_type": "markdown",
      "metadata": {
        "id": "AJzwVnJn92GI"
      },
      "source": [
        "**Vectorizing the data**"
      ]
    },
    {
      "cell_type": "code",
      "execution_count": 3,
      "metadata": {
        "id": "U24NJrH292GI"
      },
      "outputs": [],
      "source": [
        "from tensorflow.keras import layers\n",
        "\n",
        "max_length = 600\n",
        "max_tokens = 20000\n",
        "text_vectorization = layers.TextVectorization(\n",
        "    max_tokens=max_tokens,\n",
        "    output_mode=\"int\",\n",
        "    output_sequence_length=max_length,\n",
        ")\n",
        "text_vectorization.adapt(text_only_train_ds)\n",
        "\n",
        "int_train_ds = train_ds.map(\n",
        "    lambda x, y: (text_vectorization(x), y),\n",
        "    num_parallel_calls=4)\n",
        "int_val_ds = val_ds.map(\n",
        "    lambda x, y: (text_vectorization(x), y),\n",
        "    num_parallel_calls=4)\n",
        "int_test_ds = test_ds.map(\n",
        "    lambda x, y: (text_vectorization(x), y),\n",
        "    num_parallel_calls=4)"
      ]
    },
    {
      "cell_type": "markdown",
      "metadata": {
        "id": "y_7y5Hiq92GI"
      },
      "source": [
        "**Transformer encoder implemented as a subclassed `Layer`**"
      ]
    },
    {
      "cell_type": "code",
      "execution_count": 4,
      "metadata": {
        "id": "PS5yBK1t92GI"
      },
      "outputs": [],
      "source": [
        "import tensorflow as tf\n",
        "from tensorflow import keras\n",
        "from tensorflow.keras import layers\n",
        "\n",
        "class TransformerEncoder(layers.Layer):\n",
        "    def __init__(self, embed_dim, dense_dim, num_heads, **kwargs):\n",
        "        super().__init__(**kwargs)\n",
        "        self.embed_dim = embed_dim\n",
        "        self.dense_dim = dense_dim\n",
        "        self.num_heads = num_heads\n",
        "        self.attention = layers.MultiHeadAttention(\n",
        "            num_heads=num_heads, key_dim=embed_dim)\n",
        "        self.dense_proj = keras.Sequential(\n",
        "            [layers.Dense(dense_dim, activation=\"relu\"),\n",
        "             layers.Dense(embed_dim),]\n",
        "        )\n",
        "        self.layernorm_1 = layers.LayerNormalization()\n",
        "        self.layernorm_2 = layers.LayerNormalization()\n",
        "\n",
        "    def call(self, inputs, mask=None):\n",
        "        if mask is not None:\n",
        "            mask = mask[:, tf.newaxis, :]\n",
        "        attention_output = self.attention(\n",
        "            inputs, inputs, attention_mask=mask)\n",
        "        proj_input = self.layernorm_1(inputs + attention_output)\n",
        "        proj_output = self.dense_proj(proj_input)\n",
        "        return self.layernorm_2(proj_input + proj_output)\n",
        "\n",
        "    def get_config(self):\n",
        "        config = super().get_config()\n",
        "        config.update({\n",
        "            \"embed_dim\": self.embed_dim,\n",
        "            \"num_heads\": self.num_heads,\n",
        "            \"dense_dim\": self.dense_dim,\n",
        "        })\n",
        "        return config"
      ]
    },
    {
      "cell_type": "markdown",
      "metadata": {
        "id": "eEj0P33992GI"
      },
      "source": [
        "**Using the Transformer encoder for text classification**"
      ]
    },
    {
      "cell_type": "code",
      "execution_count": 5,
      "metadata": {
        "colab": {
          "base_uri": "https://localhost:8080/"
        },
        "id": "ufI83SpM92GJ",
        "outputId": "f6383dc7-82df-49bf-e604-4d2f8544e7a4"
      },
      "outputs": [
        {
          "output_type": "stream",
          "name": "stdout",
          "text": [
            "Model: \"model\"\n",
            "_________________________________________________________________\n",
            " Layer (type)                Output Shape              Param #   \n",
            "=================================================================\n",
            " input_1 (InputLayer)        [(None, None)]            0         \n",
            "                                                                 \n",
            " embedding (Embedding)       (None, None, 256)         5120000   \n",
            "                                                                 \n",
            " transformer_encoder (Transf  (None, None, 256)        543776    \n",
            " ormerEncoder)                                                   \n",
            "                                                                 \n",
            " global_max_pooling1d (Globa  (None, 256)              0         \n",
            " lMaxPooling1D)                                                  \n",
            "                                                                 \n",
            " dropout (Dropout)           (None, 256)               0         \n",
            "                                                                 \n",
            " dense_2 (Dense)             (None, 1)                 257       \n",
            "                                                                 \n",
            "=================================================================\n",
            "Total params: 5,664,033\n",
            "Trainable params: 5,664,033\n",
            "Non-trainable params: 0\n",
            "_________________________________________________________________\n"
          ]
        }
      ],
      "source": [
        "vocab_size = 20000\n",
        "embed_dim = 256\n",
        "num_heads = 2\n",
        "dense_dim = 32\n",
        "\n",
        "inputs = keras.Input(shape=(None,), dtype=\"int64\")\n",
        "x = layers.Embedding(vocab_size, embed_dim)(inputs)\n",
        "x = TransformerEncoder(embed_dim, dense_dim, num_heads)(x)\n",
        "x = layers.GlobalMaxPooling1D()(x)\n",
        "x = layers.Dropout(0.5)(x)\n",
        "outputs = layers.Dense(1, activation=\"sigmoid\")(x)\n",
        "model = keras.Model(inputs, outputs)\n",
        "model.compile(optimizer=\"rmsprop\",\n",
        "              loss=\"binary_crossentropy\",\n",
        "              metrics=[\"accuracy\"])\n",
        "model.summary()"
      ]
    },
    {
      "cell_type": "markdown",
      "metadata": {
        "id": "sbElGoFA92GJ"
      },
      "source": [
        "**Training and evaluating the Transformer encoder based model**"
      ]
    },
    {
      "cell_type": "code",
      "execution_count": 6,
      "metadata": {
        "colab": {
          "base_uri": "https://localhost:8080/"
        },
        "id": "TNYVJPbd92GJ",
        "outputId": "1fc8fe8f-cfb4-4909-ff63-50e302c7c9a0"
      },
      "outputs": [
        {
          "output_type": "stream",
          "name": "stdout",
          "text": [
            "Epoch 1/20\n",
            "625/625 [==============================] - 47s 66ms/step - loss: 0.4911 - accuracy: 0.7756 - val_loss: 0.3203 - val_accuracy: 0.8612\n",
            "Epoch 2/20\n",
            "625/625 [==============================] - 42s 67ms/step - loss: 0.3109 - accuracy: 0.8674 - val_loss: 0.2910 - val_accuracy: 0.8760\n",
            "Epoch 3/20\n",
            "625/625 [==============================] - 43s 69ms/step - loss: 0.2364 - accuracy: 0.9059 - val_loss: 0.2638 - val_accuracy: 0.8884\n",
            "Epoch 4/20\n",
            "625/625 [==============================] - 42s 67ms/step - loss: 0.1850 - accuracy: 0.9265 - val_loss: 0.2847 - val_accuracy: 0.8858\n",
            "Epoch 5/20\n",
            "625/625 [==============================] - 42s 67ms/step - loss: 0.1480 - accuracy: 0.9430 - val_loss: 0.2781 - val_accuracy: 0.8908\n",
            "Epoch 6/20\n",
            "625/625 [==============================] - 42s 67ms/step - loss: 0.1204 - accuracy: 0.9541 - val_loss: 0.3203 - val_accuracy: 0.8788\n",
            "Epoch 7/20\n",
            "625/625 [==============================] - 42s 67ms/step - loss: 0.1019 - accuracy: 0.9626 - val_loss: 0.4704 - val_accuracy: 0.8632\n",
            "Epoch 8/20\n",
            "625/625 [==============================] - 42s 67ms/step - loss: 0.0822 - accuracy: 0.9696 - val_loss: 0.4025 - val_accuracy: 0.8768\n",
            "Epoch 9/20\n",
            "625/625 [==============================] - 42s 67ms/step - loss: 0.0679 - accuracy: 0.9753 - val_loss: 0.7426 - val_accuracy: 0.8464\n",
            "Epoch 10/20\n",
            "625/625 [==============================] - 42s 67ms/step - loss: 0.0544 - accuracy: 0.9815 - val_loss: 0.6133 - val_accuracy: 0.8540\n",
            "Epoch 11/20\n",
            "625/625 [==============================] - 42s 67ms/step - loss: 0.0437 - accuracy: 0.9844 - val_loss: 0.6142 - val_accuracy: 0.8680\n",
            "Epoch 12/20\n",
            "625/625 [==============================] - 42s 67ms/step - loss: 0.0379 - accuracy: 0.9873 - val_loss: 0.6738 - val_accuracy: 0.8488\n",
            "Epoch 13/20\n",
            "625/625 [==============================] - 42s 67ms/step - loss: 0.0285 - accuracy: 0.9906 - val_loss: 0.8983 - val_accuracy: 0.8618\n",
            "Epoch 14/20\n",
            "625/625 [==============================] - 42s 67ms/step - loss: 0.0283 - accuracy: 0.9923 - val_loss: 0.8841 - val_accuracy: 0.8416\n",
            "Epoch 15/20\n",
            "625/625 [==============================] - 42s 67ms/step - loss: 0.0164 - accuracy: 0.9945 - val_loss: 0.8874 - val_accuracy: 0.8660\n",
            "Epoch 16/20\n",
            "625/625 [==============================] - 42s 67ms/step - loss: 0.0217 - accuracy: 0.9941 - val_loss: 0.9952 - val_accuracy: 0.8548\n",
            "Epoch 17/20\n",
            "625/625 [==============================] - 42s 67ms/step - loss: 0.0156 - accuracy: 0.9958 - val_loss: 1.1246 - val_accuracy: 0.8524\n",
            "Epoch 18/20\n",
            "625/625 [==============================] - 42s 67ms/step - loss: 0.0145 - accuracy: 0.9961 - val_loss: 1.1337 - val_accuracy: 0.8556\n",
            "Epoch 19/20\n",
            "625/625 [==============================] - 42s 67ms/step - loss: 0.0107 - accuracy: 0.9969 - val_loss: 0.9671 - val_accuracy: 0.8576\n",
            "Epoch 20/20\n",
            "625/625 [==============================] - 42s 67ms/step - loss: 0.0109 - accuracy: 0.9967 - val_loss: 1.2125 - val_accuracy: 0.8580\n",
            "782/782 [==============================] - 24s 30ms/step - loss: 0.2914 - accuracy: 0.8767\n",
            "Test acc: 0.877\n"
          ]
        }
      ],
      "source": [
        "callbacks = [\n",
        "    keras.callbacks.ModelCheckpoint(\"transformer_encoder.keras\",\n",
        "                                    save_best_only=True)\n",
        "]\n",
        "model.fit(int_train_ds, validation_data=int_val_ds, epochs=20, callbacks=callbacks)\n",
        "model = keras.models.load_model(\n",
        "    \"transformer_encoder.keras\",\n",
        "    custom_objects={\"TransformerEncoder\": TransformerEncoder})\n",
        "print(f\"Test acc: {model.evaluate(int_test_ds)[1]:.3f}\")"
      ]
    },
    {
      "cell_type": "markdown",
      "metadata": {
        "id": "KJFsh_ZM92GJ"
      },
      "source": [
        "#### Using positional encoding to re-inject order information"
      ]
    },
    {
      "cell_type": "markdown",
      "metadata": {
        "id": "_K0JuPqw92GJ"
      },
      "source": [
        "**Implementing positional embedding as a subclassed layer**"
      ]
    },
    {
      "cell_type": "code",
      "execution_count": 7,
      "metadata": {
        "id": "uNP74HU192GJ"
      },
      "outputs": [],
      "source": [
        "class PositionalEmbedding(layers.Layer):\n",
        "    def __init__(self, sequence_length, input_dim, output_dim, **kwargs):\n",
        "        super().__init__(**kwargs)\n",
        "        self.token_embeddings = layers.Embedding(\n",
        "            input_dim=input_dim, output_dim=output_dim)\n",
        "        self.position_embeddings = layers.Embedding(\n",
        "            input_dim=sequence_length, output_dim=output_dim)\n",
        "        self.sequence_length = sequence_length\n",
        "        self.input_dim = input_dim\n",
        "        self.output_dim = output_dim\n",
        "\n",
        "    def call(self, inputs):\n",
        "        length = tf.shape(inputs)[-1]\n",
        "        positions = tf.range(start=0, limit=length, delta=1)\n",
        "        embedded_tokens = self.token_embeddings(inputs)\n",
        "        embedded_positions = self.position_embeddings(positions)\n",
        "        return embedded_tokens + embedded_positions\n",
        "\n",
        "    def compute_mask(self, inputs, mask=None):\n",
        "        return tf.math.not_equal(inputs, 0)\n",
        "\n",
        "    def get_config(self):\n",
        "        config = super().get_config()\n",
        "        config.update({\n",
        "            \"output_dim\": self.output_dim,\n",
        "            \"sequence_length\": self.sequence_length,\n",
        "            \"input_dim\": self.input_dim,\n",
        "        })\n",
        "        return config"
      ]
    },
    {
      "cell_type": "markdown",
      "metadata": {
        "id": "JOLEMG1Y92GK"
      },
      "source": [
        "#### Putting it all together: A text-classification Transformer"
      ]
    },
    {
      "cell_type": "markdown",
      "metadata": {
        "id": "QuKv59VW92GK"
      },
      "source": [
        "**Combining the Transformer encoder with positional embedding**"
      ]
    },
    {
      "cell_type": "code",
      "execution_count": 8,
      "metadata": {
        "colab": {
          "base_uri": "https://localhost:8080/"
        },
        "id": "Kzt96zk292GK",
        "outputId": "bf2c256f-fa52-45cf-f1cc-0a095086aa92"
      },
      "outputs": [
        {
          "output_type": "stream",
          "name": "stdout",
          "text": [
            "Model: \"model_1\"\n",
            "_________________________________________________________________\n",
            " Layer (type)                Output Shape              Param #   \n",
            "=================================================================\n",
            " input_2 (InputLayer)        [(None, None)]            0         \n",
            "                                                                 \n",
            " positional_embedding (Posit  (None, None, 256)        5273600   \n",
            " ionalEmbedding)                                                 \n",
            "                                                                 \n",
            " transformer_encoder_1 (Tran  (None, None, 256)        543776    \n",
            " sformerEncoder)                                                 \n",
            "                                                                 \n",
            " global_max_pooling1d_1 (Glo  (None, 256)              0         \n",
            " balMaxPooling1D)                                                \n",
            "                                                                 \n",
            " dropout_1 (Dropout)         (None, 256)               0         \n",
            "                                                                 \n",
            " dense_7 (Dense)             (None, 1)                 257       \n",
            "                                                                 \n",
            "=================================================================\n",
            "Total params: 5,817,633\n",
            "Trainable params: 5,817,633\n",
            "Non-trainable params: 0\n",
            "_________________________________________________________________\n",
            "Epoch 1/20\n",
            "625/625 [==============================] - 44s 68ms/step - loss: 0.4701 - accuracy: 0.7872 - val_loss: 0.3867 - val_accuracy: 0.8432\n",
            "Epoch 2/20\n",
            "625/625 [==============================] - 43s 68ms/step - loss: 0.2321 - accuracy: 0.9118 - val_loss: 0.2833 - val_accuracy: 0.8942\n",
            "Epoch 3/20\n",
            "625/625 [==============================] - 43s 68ms/step - loss: 0.1747 - accuracy: 0.9350 - val_loss: 0.2945 - val_accuracy: 0.8888\n",
            "Epoch 4/20\n",
            "625/625 [==============================] - 43s 68ms/step - loss: 0.1449 - accuracy: 0.9477 - val_loss: 0.3108 - val_accuracy: 0.8918\n",
            "Epoch 5/20\n",
            "625/625 [==============================] - 43s 68ms/step - loss: 0.1234 - accuracy: 0.9564 - val_loss: 0.3126 - val_accuracy: 0.8876\n",
            "Epoch 6/20\n",
            "625/625 [==============================] - 43s 68ms/step - loss: 0.1051 - accuracy: 0.9633 - val_loss: 0.4117 - val_accuracy: 0.8864\n",
            "Epoch 7/20\n",
            "625/625 [==============================] - 42s 67ms/step - loss: 0.0902 - accuracy: 0.9692 - val_loss: 0.4598 - val_accuracy: 0.8800\n",
            "Epoch 8/20\n",
            "625/625 [==============================] - 43s 69ms/step - loss: 0.0797 - accuracy: 0.9729 - val_loss: 0.3973 - val_accuracy: 0.8794\n",
            "Epoch 9/20\n",
            "625/625 [==============================] - 43s 68ms/step - loss: 0.0740 - accuracy: 0.9758 - val_loss: 0.5528 - val_accuracy: 0.8784\n",
            "Epoch 10/20\n",
            "625/625 [==============================] - 43s 68ms/step - loss: 0.0649 - accuracy: 0.9784 - val_loss: 0.6417 - val_accuracy: 0.8788\n",
            "Epoch 11/20\n",
            "625/625 [==============================] - 43s 68ms/step - loss: 0.0607 - accuracy: 0.9793 - val_loss: 0.4812 - val_accuracy: 0.8800\n",
            "Epoch 12/20\n",
            "625/625 [==============================] - 42s 68ms/step - loss: 0.0532 - accuracy: 0.9824 - val_loss: 0.4809 - val_accuracy: 0.8730\n",
            "Epoch 13/20\n",
            "625/625 [==============================] - 43s 68ms/step - loss: 0.0476 - accuracy: 0.9836 - val_loss: 0.7396 - val_accuracy: 0.8704\n",
            "Epoch 14/20\n",
            "625/625 [==============================] - 43s 68ms/step - loss: 0.0434 - accuracy: 0.9867 - val_loss: 0.7362 - val_accuracy: 0.8768\n",
            "Epoch 15/20\n",
            "625/625 [==============================] - 43s 68ms/step - loss: 0.0398 - accuracy: 0.9872 - val_loss: 0.7013 - val_accuracy: 0.8740\n",
            "Epoch 16/20\n",
            "625/625 [==============================] - 43s 68ms/step - loss: 0.0354 - accuracy: 0.9887 - val_loss: 0.9323 - val_accuracy: 0.8674\n",
            "Epoch 17/20\n",
            "625/625 [==============================] - 43s 68ms/step - loss: 0.0309 - accuracy: 0.9897 - val_loss: 0.7896 - val_accuracy: 0.8704\n",
            "Epoch 18/20\n",
            "625/625 [==============================] - 43s 68ms/step - loss: 0.0279 - accuracy: 0.9908 - val_loss: 0.8036 - val_accuracy: 0.8730\n",
            "Epoch 19/20\n",
            "625/625 [==============================] - 43s 68ms/step - loss: 0.0242 - accuracy: 0.9924 - val_loss: 0.6579 - val_accuracy: 0.8762\n",
            "Epoch 20/20\n",
            "625/625 [==============================] - 43s 68ms/step - loss: 0.0223 - accuracy: 0.9934 - val_loss: 0.8889 - val_accuracy: 0.8742\n",
            "782/782 [==============================] - 25s 32ms/step - loss: 0.3098 - accuracy: 0.8798\n",
            "Test acc: 0.880\n"
          ]
        }
      ],
      "source": [
        "vocab_size = 20000\n",
        "sequence_length = 600\n",
        "embed_dim = 256\n",
        "num_heads = 2\n",
        "dense_dim = 32\n",
        "\n",
        "inputs = keras.Input(shape=(None,), dtype=\"int64\")\n",
        "x = PositionalEmbedding(sequence_length, vocab_size, embed_dim)(inputs)\n",
        "x = TransformerEncoder(embed_dim, dense_dim, num_heads)(x)\n",
        "x = layers.GlobalMaxPooling1D()(x)\n",
        "x = layers.Dropout(0.5)(x)\n",
        "outputs = layers.Dense(1, activation=\"sigmoid\")(x)\n",
        "model = keras.Model(inputs, outputs)\n",
        "model.compile(optimizer=\"rmsprop\",\n",
        "              loss=\"binary_crossentropy\",\n",
        "              metrics=[\"accuracy\"])\n",
        "model.summary()\n",
        "\n",
        "callbacks = [\n",
        "    keras.callbacks.ModelCheckpoint(\"full_transformer_encoder.keras\",\n",
        "                                    save_best_only=True)\n",
        "]\n",
        "model.fit(int_train_ds, validation_data=int_val_ds, epochs=20, callbacks=callbacks)\n",
        "model = keras.models.load_model(\n",
        "    \"full_transformer_encoder.keras\",\n",
        "    custom_objects={\"TransformerEncoder\": TransformerEncoder,\n",
        "                    \"PositionalEmbedding\": PositionalEmbedding})\n",
        "print(f\"Test acc: {model.evaluate(int_test_ds)[1]:.3f}\")"
      ]
    },
    {
      "cell_type": "markdown",
      "metadata": {
        "id": "BLlRwO0492GK"
      },
      "source": [
        "### When to use sequence models over bag-of-words models?"
      ]
    }
  ],
  "metadata": {
    "colab": {
      "provenance": [],
      "toc_visible": true
    },
    "kernelspec": {
      "display_name": "Python 3",
      "language": "python",
      "name": "python3"
    },
    "language_info": {
      "codemirror_mode": {
        "name": "ipython",
        "version": 3
      },
      "file_extension": ".py",
      "mimetype": "text/x-python",
      "name": "python",
      "nbconvert_exporter": "python",
      "pygments_lexer": "ipython3",
      "version": "3.7.0"
    },
    "accelerator": "GPU",
    "gpuClass": "standard"
  },
  "nbformat": 4,
  "nbformat_minor": 0
}