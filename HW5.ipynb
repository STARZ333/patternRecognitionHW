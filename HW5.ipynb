{
  "cells": [
    {
      "cell_type": "markdown",
      "metadata": {
        "id": "D2tCKXuemjac"
      },
      "source": [
        "B0829027 鄭星逸 HW5\n"
      ]
    },
    {
      "cell_type": "markdown",
      "metadata": {
        "id": "0EzSL8T2mjae"
      },
      "source": [
        "# Fundamentals of machine learning"
      ]
    },
    {
      "cell_type": "markdown",
      "metadata": {
        "id": "hrBps9zlmjaf"
      },
      "source": [
        "## Generalization: The goal of machine learning"
      ]
    },
    {
      "cell_type": "markdown",
      "metadata": {
        "id": "k4gcLD4Imjaf"
      },
      "source": [
        "### Underfitting and overfitting"
      ]
    },
    {
      "cell_type": "markdown",
      "metadata": {
        "id": "KDz95BEOmjaf"
      },
      "source": [
        "#### Noisy training data"
      ]
    },
    {
      "cell_type": "markdown",
      "metadata": {
        "id": "3mG5q3Fxmjaf"
      },
      "source": [
        "#### Ambiguous features"
      ]
    },
    {
      "cell_type": "markdown",
      "metadata": {
        "id": "iPOUlHG8mjag"
      },
      "source": [
        "#### Rare features and spurious correlations"
      ]
    },
    {
      "cell_type": "markdown",
      "metadata": {
        "id": "ZGoswr5hmjag"
      },
      "source": [
        "**Adding white-noise channels or all-zeros channels to MNIST**"
      ]
    },
    {
      "cell_type": "code",
      "execution_count": null,
      "metadata": {
        "colab": {
          "base_uri": "https://localhost:8080/"
        },
        "id": "eGWho-gKmjah",
        "outputId": "6e943696-f05c-429d-b124-3809c6e59de0"
      },
      "outputs": [
        {
          "output_type": "stream",
          "name": "stdout",
          "text": [
            "Downloading data from https://storage.googleapis.com/tensorflow/tf-keras-datasets/mnist.npz\n",
            "11490434/11490434 [==============================] - 0s 0us/step\n"
          ]
        }
      ],
      "source": [
        "from tensorflow.keras.datasets import mnist\n",
        "import numpy as np\n",
        "\n",
        "(train_images, train_labels), _ = mnist.load_data()\n",
        "train_images = train_images.reshape((60000, 28 * 28))\n",
        "train_images = train_images.astype(\"float32\") / 255\n",
        "\n",
        "train_images_with_noise_channels = np.concatenate(\n",
        "    [train_images, np.random.random((len(train_images), 784))], axis=1)\n",
        "\n",
        "train_images_with_zeros_channels = np.concatenate(\n",
        "    [train_images, np.zeros((len(train_images), 784))], axis=1)"
      ]
    },
    {
      "cell_type": "markdown",
      "metadata": {
        "id": "1acdIER_mjai"
      },
      "source": [
        "**Training the same model on MNIST data with noise channels or all-zero channels**"
      ]
    },
    {
      "cell_type": "code",
      "execution_count": null,
      "metadata": {
        "colab": {
          "base_uri": "https://localhost:8080/"
        },
        "id": "UPEGSSdJmjai",
        "outputId": "cac61423-5e05-40ec-fd29-7558fc6d1776"
      },
      "outputs": [
        {
          "output_type": "stream",
          "name": "stdout",
          "text": [
            "Epoch 1/10\n",
            "375/375 [==============================] - 13s 33ms/step - loss: 0.6281 - accuracy: 0.8091 - val_loss: 0.3119 - val_accuracy: 0.9020\n",
            "Epoch 2/10\n",
            "375/375 [==============================] - 9s 23ms/step - loss: 0.2462 - accuracy: 0.9245 - val_loss: 0.1888 - val_accuracy: 0.9421\n",
            "Epoch 3/10\n",
            "375/375 [==============================] - 7s 18ms/step - loss: 0.1630 - accuracy: 0.9500 - val_loss: 0.1505 - val_accuracy: 0.9542\n",
            "Epoch 4/10\n",
            "375/375 [==============================] - 7s 17ms/step - loss: 0.1141 - accuracy: 0.9648 - val_loss: 0.1417 - val_accuracy: 0.9567\n",
            "Epoch 5/10\n",
            "375/375 [==============================] - 7s 18ms/step - loss: 0.0844 - accuracy: 0.9732 - val_loss: 0.1444 - val_accuracy: 0.9599\n",
            "Epoch 6/10\n",
            "375/375 [==============================] - 7s 17ms/step - loss: 0.0631 - accuracy: 0.9795 - val_loss: 0.1585 - val_accuracy: 0.9574\n",
            "Epoch 7/10\n",
            "375/375 [==============================] - 7s 18ms/step - loss: 0.0482 - accuracy: 0.9849 - val_loss: 0.1250 - val_accuracy: 0.9677\n",
            "Epoch 8/10\n",
            "375/375 [==============================] - 7s 18ms/step - loss: 0.0350 - accuracy: 0.9884 - val_loss: 0.1286 - val_accuracy: 0.9686\n",
            "Epoch 9/10\n",
            "375/375 [==============================] - 7s 18ms/step - loss: 0.0261 - accuracy: 0.9920 - val_loss: 0.1567 - val_accuracy: 0.9603\n",
            "Epoch 10/10\n",
            "375/375 [==============================] - 7s 18ms/step - loss: 0.0198 - accuracy: 0.9934 - val_loss: 0.1459 - val_accuracy: 0.9664\n",
            "Epoch 1/10\n",
            "375/375 [==============================] - 7s 18ms/step - loss: 0.2893 - accuracy: 0.9166 - val_loss: 0.1674 - val_accuracy: 0.9492\n",
            "Epoch 2/10\n",
            "375/375 [==============================] - 7s 18ms/step - loss: 0.1202 - accuracy: 0.9640 - val_loss: 0.1059 - val_accuracy: 0.9683\n",
            "Epoch 3/10\n",
            "375/375 [==============================] - 7s 18ms/step - loss: 0.0786 - accuracy: 0.9762 - val_loss: 0.0849 - val_accuracy: 0.9751\n",
            "Epoch 4/10\n",
            "375/375 [==============================] - 8s 21ms/step - loss: 0.0566 - accuracy: 0.9831 - val_loss: 0.0924 - val_accuracy: 0.9720\n",
            "Epoch 5/10\n",
            "375/375 [==============================] - 7s 18ms/step - loss: 0.0429 - accuracy: 0.9874 - val_loss: 0.0787 - val_accuracy: 0.9778\n",
            "Epoch 6/10\n",
            "375/375 [==============================] - 7s 18ms/step - loss: 0.0332 - accuracy: 0.9903 - val_loss: 0.0796 - val_accuracy: 0.9784\n",
            "Epoch 7/10\n",
            "375/375 [==============================] - 8s 22ms/step - loss: 0.0246 - accuracy: 0.9926 - val_loss: 0.0822 - val_accuracy: 0.9786\n",
            "Epoch 8/10\n",
            "375/375 [==============================] - 7s 18ms/step - loss: 0.0185 - accuracy: 0.9949 - val_loss: 0.0845 - val_accuracy: 0.9789\n",
            "Epoch 9/10\n",
            "375/375 [==============================] - 7s 19ms/step - loss: 0.0146 - accuracy: 0.9956 - val_loss: 0.0854 - val_accuracy: 0.9802\n",
            "Epoch 10/10\n",
            "375/375 [==============================] - 7s 19ms/step - loss: 0.0108 - accuracy: 0.9971 - val_loss: 0.0896 - val_accuracy: 0.9793\n"
          ]
        }
      ],
      "source": [
        "from tensorflow import keras\n",
        "from tensorflow.keras import layers\n",
        "\n",
        "def get_model():\n",
        "    model = keras.Sequential([\n",
        "        layers.Dense(512, activation=\"relu\"),\n",
        "        layers.Dense(10, activation=\"softmax\")\n",
        "    ])\n",
        "    model.compile(optimizer=\"rmsprop\",\n",
        "                  loss=\"sparse_categorical_crossentropy\",\n",
        "                  metrics=[\"accuracy\"])\n",
        "    return model\n",
        "\n",
        "model = get_model()\n",
        "history_noise = model.fit(\n",
        "    train_images_with_noise_channels, train_labels,\n",
        "    epochs=10,\n",
        "    batch_size=128,\n",
        "    validation_split=0.2)\n",
        "\n",
        "model = get_model()\n",
        "history_zeros = model.fit(\n",
        "    train_images_with_zeros_channels, train_labels,\n",
        "    epochs=10,\n",
        "    batch_size=128,\n",
        "    validation_split=0.2)"
      ]
    },
    {
      "cell_type": "markdown",
      "metadata": {
        "id": "BkAxdkJWmjaj"
      },
      "source": [
        "**Plotting a validation accuracy comparison**"
      ]
    },
    {
      "cell_type": "code",
      "execution_count": null,
      "metadata": {
        "colab": {
          "base_uri": "https://localhost:8080/",
          "height": 312
        },
        "id": "pQv1ZM_1mjaj",
        "outputId": "52815bbf-6426-4209-dbf2-ebcaad431d70"
      },
      "outputs": [
        {
          "output_type": "execute_result",
          "data": {
            "text/plain": [
              "<matplotlib.legend.Legend at 0x7fd77e51e3d0>"
            ]
          },
          "metadata": {},
          "execution_count": 3
        },
        {
          "output_type": "display_data",
          "data": {
            "text/plain": [
              "<Figure size 432x288 with 1 Axes>"
            ],
            "image/png": "[encoded data removed]"
          },
          "metadata": {
            "needs_background": "light"
          }
        }
      ],
      "source": [
        "import matplotlib.pyplot as plt\n",
        "val_acc_noise = history_noise.history[\"val_accuracy\"]\n",
        "val_acc_zeros = history_zeros.history[\"val_accuracy\"]\n",
        "epochs = range(1, 11)\n",
        "plt.plot(epochs, val_acc_noise, \"b-\",\n",
        "         label=\"Validation accuracy with noise channels\")\n",
        "plt.plot(epochs, val_acc_zeros, \"b--\",\n",
        "         label=\"Validation accuracy with zeros channels\")\n",
        "plt.title(\"Effect of noise channels on validation accuracy\")\n",
        "plt.xlabel(\"Epochs\")\n",
        "plt.ylabel(\"Accuracy\")\n",
        "plt.legend()"
      ]
    },
    {
      "cell_type": "markdown",
      "metadata": {
        "id": "fivyyA3pmjaj"
      },
      "source": [
        "### The nature of generalization in deep learning"
      ]
    },
    {
      "cell_type": "markdown",
      "metadata": {
        "id": "yPKY4U5Fmjaj"
      },
      "source": [
        "**Fitting a MNIST model with randomly shuffled labels**"
      ]
    },
    {
      "cell_type": "code",
      "execution_count": null,
      "metadata": {
        "colab": {
          "base_uri": "https://localhost:8080/"
        },
        "id": "vY49-LH4mjaj",
        "outputId": "69068d86-db76-4b80-ff65-2149e6f57db3"
      },
      "outputs": [
        {
          "output_type": "stream",
          "name": "stdout",
          "text": [
            "Epoch 1/100\n",
            "375/375 [==============================] - 5s 11ms/step - loss: 2.3165 - accuracy: 0.1029 - val_loss: 2.3077 - val_accuracy: 0.1034\n",
            "Epoch 2/100\n",
            "375/375 [==============================] - 4s 11ms/step - loss: 2.3005 - accuracy: 0.1156 - val_loss: 2.3113 - val_accuracy: 0.1054\n",
            "Epoch 3/100\n",
            "375/375 [==============================] - 4s 11ms/step - loss: 2.2903 - accuracy: 0.1287 - val_loss: 2.3201 - val_accuracy: 0.1064\n",
            "Epoch 4/100\n",
            "375/375 [==============================] - 4s 11ms/step - loss: 2.2778 - accuracy: 0.1394 - val_loss: 2.3323 - val_accuracy: 0.0999\n",
            "Epoch 5/100\n",
            "375/375 [==============================] - 4s 11ms/step - loss: 2.2609 - accuracy: 0.1532 - val_loss: 2.3337 - val_accuracy: 0.1041\n",
            "Epoch 6/100\n",
            "375/375 [==============================] - 4s 11ms/step - loss: 2.2397 - accuracy: 0.1656 - val_loss: 2.3516 - val_accuracy: 0.0976\n",
            "Epoch 7/100\n",
            "375/375 [==============================] - 4s 11ms/step - loss: 2.2161 - accuracy: 0.1816 - val_loss: 2.3660 - val_accuracy: 0.0987\n",
            "Epoch 8/100\n",
            "375/375 [==============================] - 4s 11ms/step - loss: 2.1888 - accuracy: 0.1956 - val_loss: 2.3812 - val_accuracy: 0.1032\n",
            "Epoch 9/100\n",
            "375/375 [==============================] - 4s 11ms/step - loss: 2.1602 - accuracy: 0.2142 - val_loss: 2.3995 - val_accuracy: 0.0995\n",
            "Epoch 10/100\n",
            "375/375 [==============================] - 4s 11ms/step - loss: 2.1308 - accuracy: 0.2299 - val_loss: 2.4255 - val_accuracy: 0.1014\n",
            "Epoch 11/100\n",
            "375/375 [==============================] - 4s 11ms/step - loss: 2.0967 - accuracy: 0.2489 - val_loss: 2.4495 - val_accuracy: 0.0984\n",
            "Epoch 12/100\n",
            "375/375 [==============================] - 4s 11ms/step - loss: 2.0645 - accuracy: 0.2573 - val_loss: 2.4683 - val_accuracy: 0.1005\n",
            "Epoch 13/100\n",
            "375/375 [==============================] - 4s 11ms/step - loss: 2.0300 - accuracy: 0.2770 - val_loss: 2.5117 - val_accuracy: 0.0994\n",
            "Epoch 14/100\n",
            "375/375 [==============================] - 4s 11ms/step - loss: 1.9968 - accuracy: 0.2916 - val_loss: 2.5252 - val_accuracy: 0.1034\n",
            "Epoch 15/100\n",
            "375/375 [==============================] - 4s 12ms/step - loss: 1.9613 - accuracy: 0.3056 - val_loss: 2.5572 - val_accuracy: 0.1013\n",
            "Epoch 16/100\n",
            "375/375 [==============================] - 4s 11ms/step - loss: 1.9279 - accuracy: 0.3192 - val_loss: 2.5834 - val_accuracy: 0.1027\n",
            "Epoch 17/100\n",
            "375/375 [==============================] - 4s 11ms/step - loss: 1.8958 - accuracy: 0.3342 - val_loss: 2.6107 - val_accuracy: 0.1032\n",
            "Epoch 18/100\n",
            "375/375 [==============================] - 4s 11ms/step - loss: 1.8611 - accuracy: 0.3460 - val_loss: 2.6551 - val_accuracy: 0.1035\n",
            "Epoch 19/100\n",
            "375/375 [==============================] - 4s 11ms/step - loss: 1.8277 - accuracy: 0.3595 - val_loss: 2.6913 - val_accuracy: 0.1009\n",
            "Epoch 20/100\n",
            "375/375 [==============================] - 4s 11ms/step - loss: 1.7961 - accuracy: 0.3735 - val_loss: 2.7311 - val_accuracy: 0.1007\n",
            "Epoch 21/100\n",
            "375/375 [==============================] - 4s 11ms/step - loss: 1.7654 - accuracy: 0.3856 - val_loss: 2.7639 - val_accuracy: 0.1012\n",
            "Epoch 22/100\n",
            "375/375 [==============================] - 4s 11ms/step - loss: 1.7330 - accuracy: 0.3961 - val_loss: 2.7974 - val_accuracy: 0.1013\n",
            "Epoch 23/100\n",
            "375/375 [==============================] - 4s 10ms/step - loss: 1.7047 - accuracy: 0.4068 - val_loss: 2.8366 - val_accuracy: 0.1031\n",
            "Epoch 24/100\n",
            "375/375 [==============================] - 4s 11ms/step - loss: 1.6757 - accuracy: 0.4206 - val_loss: 2.8776 - val_accuracy: 0.1012\n",
            "Epoch 25/100\n",
            "375/375 [==============================] - 4s 11ms/step - loss: 1.6468 - accuracy: 0.4301 - val_loss: 2.9344 - val_accuracy: 0.1002\n",
            "Epoch 26/100\n",
            "375/375 [==============================] - 4s 11ms/step - loss: 1.6192 - accuracy: 0.4422 - val_loss: 2.9571 - val_accuracy: 0.1028\n",
            "Epoch 27/100\n",
            "375/375 [==============================] - 4s 11ms/step - loss: 1.5917 - accuracy: 0.4505 - val_loss: 3.0216 - val_accuracy: 0.1010\n",
            "Epoch 28/100\n",
            "375/375 [==============================] - 4s 11ms/step - loss: 1.5664 - accuracy: 0.4611 - val_loss: 3.0509 - val_accuracy: 0.0993\n",
            "Epoch 29/100\n",
            "375/375 [==============================] - 4s 11ms/step - loss: 1.5399 - accuracy: 0.4705 - val_loss: 3.0881 - val_accuracy: 0.0985\n",
            "Epoch 30/100\n",
            "375/375 [==============================] - 4s 11ms/step - loss: 1.5132 - accuracy: 0.4775 - val_loss: 3.1412 - val_accuracy: 0.0997\n",
            "Epoch 31/100\n",
            "375/375 [==============================] - 4s 11ms/step - loss: 1.4894 - accuracy: 0.4878 - val_loss: 3.2004 - val_accuracy: 0.1009\n",
            "Epoch 32/100\n",
            "375/375 [==============================] - 4s 11ms/step - loss: 1.4656 - accuracy: 0.4972 - val_loss: 3.2206 - val_accuracy: 0.0988\n",
            "Epoch 33/100\n",
            "375/375 [==============================] - 4s 11ms/step - loss: 1.4397 - accuracy: 0.5070 - val_loss: 3.2419 - val_accuracy: 0.1028\n",
            "Epoch 34/100\n",
            "375/375 [==============================] - 4s 11ms/step - loss: 1.4167 - accuracy: 0.5129 - val_loss: 3.3007 - val_accuracy: 0.1027\n",
            "Epoch 35/100\n",
            "375/375 [==============================] - 4s 11ms/step - loss: 1.3939 - accuracy: 0.5199 - val_loss: 3.3463 - val_accuracy: 0.1040\n",
            "Epoch 36/100\n",
            "375/375 [==============================] - 4s 11ms/step - loss: 1.3723 - accuracy: 0.5302 - val_loss: 3.3863 - val_accuracy: 0.1026\n",
            "Epoch 37/100\n",
            "375/375 [==============================] - 4s 11ms/step - loss: 1.3508 - accuracy: 0.5391 - val_loss: 3.4623 - val_accuracy: 0.0999\n",
            "Epoch 38/100\n",
            "375/375 [==============================] - 4s 11ms/step - loss: 1.3287 - accuracy: 0.5506 - val_loss: 3.5044 - val_accuracy: 0.1023\n",
            "Epoch 39/100\n",
            "375/375 [==============================] - 4s 12ms/step - loss: 1.3087 - accuracy: 0.5534 - val_loss: 3.5530 - val_accuracy: 0.1033\n",
            "Epoch 40/100\n",
            "375/375 [==============================] - 4s 11ms/step - loss: 1.2883 - accuracy: 0.5619 - val_loss: 3.5821 - val_accuracy: 0.1013\n",
            "Epoch 41/100\n",
            "375/375 [==============================] - 4s 12ms/step - loss: 1.2685 - accuracy: 0.5687 - val_loss: 3.6357 - val_accuracy: 0.0998\n",
            "Epoch 42/100\n",
            "375/375 [==============================] - 5s 12ms/step - loss: 1.2491 - accuracy: 0.5774 - val_loss: 3.6806 - val_accuracy: 0.1010\n",
            "Epoch 43/100\n",
            "375/375 [==============================] - 4s 12ms/step - loss: 1.2297 - accuracy: 0.5829 - val_loss: 3.7423 - val_accuracy: 0.1018\n",
            "Epoch 44/100\n",
            "375/375 [==============================] - 4s 11ms/step - loss: 1.2105 - accuracy: 0.5914 - val_loss: 3.7909 - val_accuracy: 0.1024\n",
            "Epoch 45/100\n",
            "375/375 [==============================] - 5s 14ms/step - loss: 1.1887 - accuracy: 0.5982 - val_loss: 3.8770 - val_accuracy: 0.0999\n",
            "Epoch 46/100\n",
            "375/375 [==============================] - 5s 13ms/step - loss: 1.1730 - accuracy: 0.6065 - val_loss: 3.8843 - val_accuracy: 0.1002\n",
            "Epoch 47/100\n",
            "375/375 [==============================] - 5s 12ms/step - loss: 1.1568 - accuracy: 0.6093 - val_loss: 3.9558 - val_accuracy: 0.0982\n",
            "Epoch 48/100\n",
            "375/375 [==============================] - 4s 12ms/step - loss: 1.1386 - accuracy: 0.6159 - val_loss: 4.0130 - val_accuracy: 0.0993\n",
            "Epoch 49/100\n",
            "375/375 [==============================] - 4s 12ms/step - loss: 1.1207 - accuracy: 0.6232 - val_loss: 4.0311 - val_accuracy: 0.0993\n",
            "Epoch 50/100\n",
            "375/375 [==============================] - 5s 13ms/step - loss: 1.1043 - accuracy: 0.6277 - val_loss: 4.0871 - val_accuracy: 0.1005\n",
            "Epoch 51/100\n",
            "375/375 [==============================] - 5s 12ms/step - loss: 1.0899 - accuracy: 0.6340 - val_loss: 4.1722 - val_accuracy: 0.1001\n",
            "Epoch 52/100\n",
            "375/375 [==============================] - 5s 13ms/step - loss: 1.0701 - accuracy: 0.6405 - val_loss: 4.2533 - val_accuracy: 0.1008\n",
            "Epoch 53/100\n",
            "375/375 [==============================] - 5s 12ms/step - loss: 1.0555 - accuracy: 0.6451 - val_loss: 4.2645 - val_accuracy: 0.1006\n",
            "Epoch 54/100\n",
            "375/375 [==============================] - 5s 13ms/step - loss: 1.0393 - accuracy: 0.6527 - val_loss: 4.3187 - val_accuracy: 0.1010\n",
            "Epoch 55/100\n",
            "375/375 [==============================] - 4s 12ms/step - loss: 1.0253 - accuracy: 0.6555 - val_loss: 4.3953 - val_accuracy: 0.1023\n",
            "Epoch 56/100\n",
            "375/375 [==============================] - 4s 12ms/step - loss: 1.0100 - accuracy: 0.6625 - val_loss: 4.4302 - val_accuracy: 0.1007\n",
            "Epoch 57/100\n",
            "375/375 [==============================] - 4s 12ms/step - loss: 0.9966 - accuracy: 0.6663 - val_loss: 4.4981 - val_accuracy: 0.0982\n",
            "Epoch 58/100\n",
            "375/375 [==============================] - 4s 12ms/step - loss: 0.9793 - accuracy: 0.6734 - val_loss: 4.5351 - val_accuracy: 0.0997\n",
            "Epoch 59/100\n",
            "375/375 [==============================] - 4s 12ms/step - loss: 0.9660 - accuracy: 0.6789 - val_loss: 4.6025 - val_accuracy: 0.1016\n",
            "Epoch 60/100\n",
            "375/375 [==============================] - 4s 12ms/step - loss: 0.9507 - accuracy: 0.6831 - val_loss: 4.6242 - val_accuracy: 0.1007\n",
            "Epoch 61/100\n",
            "375/375 [==============================] - 4s 12ms/step - loss: 0.9385 - accuracy: 0.6864 - val_loss: 4.7139 - val_accuracy: 0.1006\n",
            "Epoch 62/100\n",
            "375/375 [==============================] - 4s 12ms/step - loss: 0.9240 - accuracy: 0.6916 - val_loss: 4.7947 - val_accuracy: 0.0991\n",
            "Epoch 63/100\n",
            "375/375 [==============================] - 4s 12ms/step - loss: 0.9138 - accuracy: 0.6961 - val_loss: 4.8152 - val_accuracy: 0.1001\n",
            "Epoch 64/100\n",
            "375/375 [==============================] - 4s 12ms/step - loss: 0.8987 - accuracy: 0.7016 - val_loss: 4.9152 - val_accuracy: 0.1011\n",
            "Epoch 65/100\n",
            "375/375 [==============================] - 4s 12ms/step - loss: 0.8870 - accuracy: 0.7064 - val_loss: 4.9740 - val_accuracy: 0.1003\n",
            "Epoch 66/100\n",
            "375/375 [==============================] - 4s 12ms/step - loss: 0.8727 - accuracy: 0.7110 - val_loss: 4.9968 - val_accuracy: 0.0997\n",
            "Epoch 67/100\n",
            "375/375 [==============================] - 4s 12ms/step - loss: 0.8610 - accuracy: 0.7135 - val_loss: 5.0877 - val_accuracy: 0.0986\n",
            "Epoch 68/100\n",
            "375/375 [==============================] - 4s 12ms/step - loss: 0.8477 - accuracy: 0.7190 - val_loss: 5.1217 - val_accuracy: 0.1025\n",
            "Epoch 69/100\n",
            "375/375 [==============================] - 4s 12ms/step - loss: 0.8367 - accuracy: 0.7237 - val_loss: 5.1955 - val_accuracy: 0.0988\n",
            "Epoch 70/100\n",
            "375/375 [==============================] - 4s 12ms/step - loss: 0.8236 - accuracy: 0.7265 - val_loss: 5.2504 - val_accuracy: 0.1007\n",
            "Epoch 71/100\n",
            "375/375 [==============================] - 4s 12ms/step - loss: 0.8114 - accuracy: 0.7303 - val_loss: 5.3049 - val_accuracy: 0.1036\n",
            "Epoch 72/100\n",
            "375/375 [==============================] - 4s 12ms/step - loss: 0.8015 - accuracy: 0.7341 - val_loss: 5.3881 - val_accuracy: 0.0976\n",
            "Epoch 73/100\n",
            "375/375 [==============================] - 4s 12ms/step - loss: 0.7909 - accuracy: 0.7393 - val_loss: 5.4119 - val_accuracy: 0.0980\n",
            "Epoch 74/100\n",
            "375/375 [==============================] - 4s 12ms/step - loss: 0.7790 - accuracy: 0.7430 - val_loss: 5.4837 - val_accuracy: 0.1002\n",
            "Epoch 75/100\n",
            "375/375 [==============================] - 4s 12ms/step - loss: 0.7683 - accuracy: 0.7453 - val_loss: 5.5815 - val_accuracy: 0.0989\n",
            "Epoch 76/100\n",
            "375/375 [==============================] - 4s 12ms/step - loss: 0.7584 - accuracy: 0.7482 - val_loss: 5.5978 - val_accuracy: 0.0997\n",
            "Epoch 77/100\n",
            "375/375 [==============================] - 4s 12ms/step - loss: 0.7465 - accuracy: 0.7529 - val_loss: 5.6684 - val_accuracy: 0.0997\n",
            "Epoch 78/100\n",
            "375/375 [==============================] - 4s 12ms/step - loss: 0.7367 - accuracy: 0.7569 - val_loss: 5.7633 - val_accuracy: 0.0978\n",
            "Epoch 79/100\n",
            "375/375 [==============================] - 4s 12ms/step - loss: 0.7282 - accuracy: 0.7604 - val_loss: 5.8185 - val_accuracy: 0.0972\n",
            "Epoch 80/100\n",
            "375/375 [==============================] - 4s 12ms/step - loss: 0.7164 - accuracy: 0.7651 - val_loss: 5.9055 - val_accuracy: 0.0962\n",
            "Epoch 81/100\n",
            "375/375 [==============================] - 4s 12ms/step - loss: 0.7046 - accuracy: 0.7683 - val_loss: 5.9100 - val_accuracy: 0.0993\n",
            "Epoch 82/100\n",
            "375/375 [==============================] - 4s 12ms/step - loss: 0.6985 - accuracy: 0.7716 - val_loss: 6.0094 - val_accuracy: 0.0972\n",
            "Epoch 83/100\n",
            "375/375 [==============================] - 4s 12ms/step - loss: 0.6884 - accuracy: 0.7740 - val_loss: 6.0735 - val_accuracy: 0.0971\n",
            "Epoch 84/100\n",
            "375/375 [==============================] - 4s 12ms/step - loss: 0.6748 - accuracy: 0.7799 - val_loss: 6.1240 - val_accuracy: 0.0996\n",
            "Epoch 85/100\n",
            "375/375 [==============================] - 4s 12ms/step - loss: 0.6681 - accuracy: 0.7815 - val_loss: 6.1965 - val_accuracy: 0.0965\n",
            "Epoch 86/100\n",
            "375/375 [==============================] - 4s 12ms/step - loss: 0.6594 - accuracy: 0.7850 - val_loss: 6.2814 - val_accuracy: 0.1006\n",
            "Epoch 87/100\n",
            "375/375 [==============================] - 4s 12ms/step - loss: 0.6513 - accuracy: 0.7882 - val_loss: 6.3076 - val_accuracy: 0.0970\n",
            "Epoch 88/100\n",
            "375/375 [==============================] - 4s 12ms/step - loss: 0.6419 - accuracy: 0.7895 - val_loss: 6.4403 - val_accuracy: 0.0952\n",
            "Epoch 89/100\n",
            "375/375 [==============================] - 4s 12ms/step - loss: 0.6329 - accuracy: 0.7926 - val_loss: 6.4435 - val_accuracy: 0.0983\n",
            "Epoch 90/100\n",
            "375/375 [==============================] - 4s 12ms/step - loss: 0.6240 - accuracy: 0.7960 - val_loss: 6.5069 - val_accuracy: 0.0998\n",
            "Epoch 91/100\n",
            "375/375 [==============================] - 4s 12ms/step - loss: 0.6146 - accuracy: 0.7998 - val_loss: 6.5905 - val_accuracy: 0.0962\n",
            "Epoch 92/100\n",
            "375/375 [==============================] - 4s 12ms/step - loss: 0.6075 - accuracy: 0.8014 - val_loss: 6.6697 - val_accuracy: 0.0988\n",
            "Epoch 93/100\n",
            "375/375 [==============================] - 5s 14ms/step - loss: 0.5976 - accuracy: 0.8039 - val_loss: 6.6778 - val_accuracy: 0.0991\n",
            "Epoch 94/100\n",
            "375/375 [==============================] - 4s 12ms/step - loss: 0.5896 - accuracy: 0.8069 - val_loss: 6.8351 - val_accuracy: 0.1007\n",
            "Epoch 95/100\n",
            "375/375 [==============================] - 4s 12ms/step - loss: 0.5828 - accuracy: 0.8092 - val_loss: 6.8935 - val_accuracy: 0.0967\n",
            "Epoch 96/100\n",
            "375/375 [==============================] - 4s 12ms/step - loss: 0.5758 - accuracy: 0.8113 - val_loss: 6.9068 - val_accuracy: 0.0971\n",
            "Epoch 97/100\n",
            "375/375 [==============================] - 4s 12ms/step - loss: 0.5669 - accuracy: 0.8155 - val_loss: 7.0063 - val_accuracy: 0.0995\n",
            "Epoch 98/100\n",
            "375/375 [==============================] - 4s 12ms/step - loss: 0.5602 - accuracy: 0.8167 - val_loss: 7.0985 - val_accuracy: 0.0967\n",
            "Epoch 99/100\n",
            "375/375 [==============================] - 4s 12ms/step - loss: 0.5525 - accuracy: 0.8211 - val_loss: 7.0968 - val_accuracy: 0.0983\n",
            "Epoch 100/100\n",
            "375/375 [==============================] - 4s 12ms/step - loss: 0.5470 - accuracy: 0.8216 - val_loss: 7.1748 - val_accuracy: 0.0983\n"
          ]
        },
        {
          "output_type": "execute_result",
          "data": {
            "text/plain": [
              "<keras.callbacks.History at 0x7fd77e018b50>"
            ]
          },
          "metadata": {},
          "execution_count": 4
        }
      ],
      "source": [
        "(train_images, train_labels), _ = mnist.load_data()\n",
        "train_images = train_images.reshape((60000, 28 * 28))\n",
        "train_images = train_images.astype(\"float32\") / 255\n",
        "\n",
        "random_train_labels = train_labels[:]\n",
        "np.random.shuffle(random_train_labels)\n",
        "\n",
        "model = keras.Sequential([\n",
        "    layers.Dense(512, activation=\"relu\"),\n",
        "    layers.Dense(10, activation=\"softmax\")\n",
        "])\n",
        "model.compile(optimizer=\"rmsprop\",\n",
        "              loss=\"sparse_categorical_crossentropy\",\n",
        "              metrics=[\"accuracy\"])\n",
        "model.fit(train_images, random_train_labels,\n",
        "          epochs=100,\n",
        "          batch_size=128,\n",
        "          validation_split=0.2)"
      ]
    },
    {
      "cell_type": "markdown",
      "metadata": {
        "id": "E4Vnpn-xmjak"
      },
      "source": [
        "#### The manifold hypothesis"
      ]
    },
    {
      "cell_type": "markdown",
      "metadata": {
        "id": "Co4Fr8FLmjak"
      },
      "source": [
        "#### Interpolation as a source of generalization"
      ]
    },
    {
      "cell_type": "markdown",
      "metadata": {
        "id": "pp9SbO4mmjak"
      },
      "source": [
        "#### Why deep learning works"
      ]
    },
    {
      "cell_type": "markdown",
      "metadata": {
        "id": "zQWCVWEQmjak"
      },
      "source": [
        "#### Training data is paramount"
      ]
    },
    {
      "cell_type": "markdown",
      "metadata": {
        "id": "PVoPYRcCmjak"
      },
      "source": [
        "## Evaluating machine-learning models"
      ]
    },
    {
      "cell_type": "markdown",
      "metadata": {
        "id": "JJvRK72pmjak"
      },
      "source": [
        "### Training, validation, and test sets"
      ]
    },
    {
      "cell_type": "markdown",
      "metadata": {
        "id": "moVCLDKBmjal"
      },
      "source": [
        "#### Simple hold-out validation"
      ]
    },
    {
      "cell_type": "markdown",
      "metadata": {
        "id": "0K06wKecmjal"
      },
      "source": [
        "#### K-fold validation"
      ]
    },
    {
      "cell_type": "markdown",
      "metadata": {
        "id": "4Ba-zkz1mjal"
      },
      "source": [
        "#### Iterated K-fold validation with shuffling"
      ]
    },
    {
      "cell_type": "markdown",
      "metadata": {
        "id": "egbJ0xScmjal"
      },
      "source": [
        "### Beating a common-sense baseline"
      ]
    },
    {
      "cell_type": "markdown",
      "metadata": {
        "id": "UW2dIqtKmjal"
      },
      "source": [
        "### Things to keep in mind about model evaluation"
      ]
    },
    {
      "cell_type": "markdown",
      "metadata": {
        "id": "49tSpaFEmjal"
      },
      "source": [
        "## Improving model fit"
      ]
    },
    {
      "cell_type": "markdown",
      "metadata": {
        "id": "13amQMU_mjal"
      },
      "source": [
        "### Tuning key gradient descent parameters"
      ]
    },
    {
      "cell_type": "markdown",
      "metadata": {
        "id": "DtlY0N9Bmjal"
      },
      "source": [
        "**Training a MNIST model with an incorrectly high learning rate**"
      ]
    },
    {
      "cell_type": "code",
      "execution_count": null,
      "metadata": {
        "colab": {
          "base_uri": "https://localhost:8080/"
        },
        "id": "chf8hg93mjal",
        "outputId": "8892b109-70b4-48e1-eea7-8bbacad2b7ea"
      },
      "outputs": [
        {
          "output_type": "stream",
          "name": "stdout",
          "text": [
            "Epoch 1/10\n",
            "375/375 [==============================] - 5s 12ms/step - loss: 876.5939 - accuracy: 0.4045 - val_loss: 3.0269 - val_accuracy: 0.3131\n",
            "Epoch 2/10\n",
            "375/375 [==============================] - 4s 12ms/step - loss: 4.1575 - accuracy: 0.2710 - val_loss: 6.1373 - val_accuracy: 0.3306\n",
            "Epoch 3/10\n",
            "375/375 [==============================] - 4s 12ms/step - loss: 2.7634 - accuracy: 0.2788 - val_loss: 2.2533 - val_accuracy: 0.2812\n",
            "Epoch 4/10\n",
            "375/375 [==============================] - 4s 12ms/step - loss: 3.2047 - accuracy: 0.2533 - val_loss: 2.2052 - val_accuracy: 0.2347\n",
            "Epoch 5/10\n",
            "375/375 [==============================] - 4s 12ms/step - loss: 2.7694 - accuracy: 0.2517 - val_loss: 2.3841 - val_accuracy: 0.2561\n",
            "Epoch 6/10\n",
            "375/375 [==============================] - 4s 12ms/step - loss: 2.6568 - accuracy: 0.2592 - val_loss: 2.6233 - val_accuracy: 0.2817\n",
            "Epoch 7/10\n",
            "375/375 [==============================] - 4s 12ms/step - loss: 2.4169 - accuracy: 0.2633 - val_loss: 5.1663 - val_accuracy: 0.3359\n",
            "Epoch 8/10\n",
            "375/375 [==============================] - 4s 12ms/step - loss: 2.5005 - accuracy: 0.2711 - val_loss: 2.1321 - val_accuracy: 0.2518\n",
            "Epoch 9/10\n",
            "375/375 [==============================] - 5s 12ms/step - loss: 2.4443 - accuracy: 0.2563 - val_loss: 2.4573 - val_accuracy: 0.2482\n",
            "Epoch 10/10\n",
            "375/375 [==============================] - 5s 12ms/step - loss: 2.2746 - accuracy: 0.2487 - val_loss: 2.4969 - val_accuracy: 0.2802\n"
          ]
        },
        {
          "output_type": "execute_result",
          "data": {
            "text/plain": [
              "<keras.callbacks.History at 0x7fd77df38b10>"
            ]
          },
          "metadata": {},
          "execution_count": 5
        }
      ],
      "source": [
        "(train_images, train_labels), _ = mnist.load_data()\n",
        "train_images = train_images.reshape((60000, 28 * 28))\n",
        "train_images = train_images.astype(\"float32\") / 255\n",
        "\n",
        "model = keras.Sequential([\n",
        "    layers.Dense(512, activation=\"relu\"),\n",
        "    layers.Dense(10, activation=\"softmax\")\n",
        "])\n",
        "model.compile(optimizer=keras.optimizers.RMSprop(1.),\n",
        "              loss=\"sparse_categorical_crossentropy\",\n",
        "              metrics=[\"accuracy\"])\n",
        "model.fit(train_images, train_labels,\n",
        "          epochs=10,\n",
        "          batch_size=128,\n",
        "          validation_split=0.2)"
      ]
    },
    {
      "cell_type": "markdown",
      "metadata": {
        "id": "_h-O_mmymjal"
      },
      "source": [
        "**The same model with a more appropriate learning rate**"
      ]
    },
    {
      "cell_type": "code",
      "execution_count": null,
      "metadata": {
        "colab": {
          "base_uri": "https://localhost:8080/"
        },
        "id": "u4nnYUVhmjam",
        "outputId": "24b72b95-87d1-47f3-ee6c-2d64c51b1ef3"
      },
      "outputs": [
        {
          "output_type": "stream",
          "name": "stdout",
          "text": [
            "Epoch 1/10\n",
            "375/375 [==============================] - 5s 12ms/step - loss: 0.3650 - accuracy: 0.9121 - val_loss: 0.1791 - val_accuracy: 0.9497\n",
            "Epoch 2/10\n",
            "375/375 [==============================] - 5s 13ms/step - loss: 0.1379 - accuracy: 0.9642 - val_loss: 0.2093 - val_accuracy: 0.9536\n",
            "Epoch 3/10\n",
            "375/375 [==============================] - 9s 25ms/step - loss: 0.1186 - accuracy: 0.9727 - val_loss: 0.1858 - val_accuracy: 0.9633\n",
            "Epoch 4/10\n",
            "375/375 [==============================] - 7s 18ms/step - loss: 0.1008 - accuracy: 0.9774 - val_loss: 0.2190 - val_accuracy: 0.9653\n",
            "Epoch 5/10\n",
            "375/375 [==============================] - 4s 12ms/step - loss: 0.0899 - accuracy: 0.9813 - val_loss: 0.2212 - val_accuracy: 0.9697\n",
            "Epoch 6/10\n",
            "375/375 [==============================] - 4s 12ms/step - loss: 0.0839 - accuracy: 0.9848 - val_loss: 0.2205 - val_accuracy: 0.9729\n",
            "Epoch 7/10\n",
            "375/375 [==============================] - 4s 12ms/step - loss: 0.0806 - accuracy: 0.9860 - val_loss: 0.2968 - val_accuracy: 0.9693\n",
            "Epoch 8/10\n",
            "375/375 [==============================] - 4s 12ms/step - loss: 0.0726 - accuracy: 0.9866 - val_loss: 0.3200 - val_accuracy: 0.9690\n",
            "Epoch 9/10\n",
            "375/375 [==============================] - 4s 12ms/step - loss: 0.0684 - accuracy: 0.9880 - val_loss: 0.2987 - val_accuracy: 0.9742\n",
            "Epoch 10/10\n",
            "375/375 [==============================] - 4s 12ms/step - loss: 0.0662 - accuracy: 0.9893 - val_loss: 0.2982 - val_accuracy: 0.9743\n"
          ]
        },
        {
          "output_type": "execute_result",
          "data": {
            "text/plain": [
              "<keras.callbacks.History at 0x7fd77df350d0>"
            ]
          },
          "metadata": {},
          "execution_count": 6
        }
      ],
      "source": [
        "model = keras.Sequential([\n",
        "    layers.Dense(512, activation=\"relu\"),\n",
        "    layers.Dense(10, activation=\"softmax\")\n",
        "])\n",
        "model.compile(optimizer=keras.optimizers.RMSprop(1e-2),\n",
        "              loss=\"sparse_categorical_crossentropy\",\n",
        "              metrics=[\"accuracy\"])\n",
        "model.fit(train_images, train_labels,\n",
        "          epochs=10,\n",
        "          batch_size=128,\n",
        "          validation_split=0.2)"
      ]
    },
    {
      "cell_type": "markdown",
      "metadata": {
        "id": "jufusuOLmjam"
      },
      "source": [
        "### Leveraging better architecture priors"
      ]
    },
    {
      "cell_type": "markdown",
      "metadata": {
        "id": "dx5qPukHmjam"
      },
      "source": [
        "### Increasing model capacity"
      ]
    },
    {
      "cell_type": "markdown",
      "metadata": {
        "id": "0sAWcuRXmjam"
      },
      "source": [
        "**A simple logistic regression on MNIST**"
      ]
    },
    {
      "cell_type": "code",
      "execution_count": null,
      "metadata": {
        "colab": {
          "base_uri": "https://localhost:8080/"
        },
        "id": "jgnxXn3umjam",
        "outputId": "67dab61c-9318-4989-d483-d86a10c8b714"
      },
      "outputs": [
        {
          "output_type": "stream",
          "name": "stdout",
          "text": [
            "Epoch 1/20\n",
            "375/375 [==============================] - 2s 4ms/step - loss: 0.6750 - accuracy: 0.8344 - val_loss: 0.3565 - val_accuracy: 0.9048\n",
            "Epoch 2/20\n",
            "375/375 [==============================] - 1s 3ms/step - loss: 0.3497 - accuracy: 0.9035 - val_loss: 0.3064 - val_accuracy: 0.9157\n",
            "Epoch 3/20\n",
            "375/375 [==============================] - 1s 3ms/step - loss: 0.3146 - accuracy: 0.9121 - val_loss: 0.2888 - val_accuracy: 0.9212\n",
            "Epoch 4/20\n",
            "375/375 [==============================] - 1s 3ms/step - loss: 0.2986 - accuracy: 0.9171 - val_loss: 0.2809 - val_accuracy: 0.9213\n",
            "Epoch 5/20\n",
            "375/375 [==============================] - 1s 4ms/step - loss: 0.2892 - accuracy: 0.9196 - val_loss: 0.2753 - val_accuracy: 0.9244\n",
            "Epoch 6/20\n",
            "375/375 [==============================] - 1s 3ms/step - loss: 0.2827 - accuracy: 0.9215 - val_loss: 0.2714 - val_accuracy: 0.9263\n",
            "Epoch 7/20\n",
            "375/375 [==============================] - 1s 3ms/step - loss: 0.2779 - accuracy: 0.9234 - val_loss: 0.2706 - val_accuracy: 0.9246\n",
            "Epoch 8/20\n",
            "375/375 [==============================] - 1s 3ms/step - loss: 0.2738 - accuracy: 0.9238 - val_loss: 0.2686 - val_accuracy: 0.9259\n",
            "Epoch 9/20\n",
            "375/375 [==============================] - 1s 3ms/step - loss: 0.2710 - accuracy: 0.9252 - val_loss: 0.2658 - val_accuracy: 0.9269\n",
            "Epoch 10/20\n",
            "375/375 [==============================] - 1s 3ms/step - loss: 0.2684 - accuracy: 0.9251 - val_loss: 0.2648 - val_accuracy: 0.9278\n",
            "Epoch 11/20\n",
            "375/375 [==============================] - 1s 3ms/step - loss: 0.2664 - accuracy: 0.9266 - val_loss: 0.2632 - val_accuracy: 0.9277\n",
            "Epoch 12/20\n",
            "375/375 [==============================] - 1s 3ms/step - loss: 0.2647 - accuracy: 0.9265 - val_loss: 0.2616 - val_accuracy: 0.9302\n",
            "Epoch 13/20\n",
            "375/375 [==============================] - 1s 4ms/step - loss: 0.2629 - accuracy: 0.9278 - val_loss: 0.2631 - val_accuracy: 0.9287\n",
            "Epoch 14/20\n",
            "375/375 [==============================] - 1s 3ms/step - loss: 0.2615 - accuracy: 0.9278 - val_loss: 0.2606 - val_accuracy: 0.9299\n",
            "Epoch 15/20\n",
            "375/375 [==============================] - 1s 4ms/step - loss: 0.2604 - accuracy: 0.9285 - val_loss: 0.2602 - val_accuracy: 0.9307\n",
            "Epoch 16/20\n",
            "375/375 [==============================] - 1s 3ms/step - loss: 0.2592 - accuracy: 0.9287 - val_loss: 0.2621 - val_accuracy: 0.9295\n",
            "Epoch 17/20\n",
            "375/375 [==============================] - 1s 3ms/step - loss: 0.2582 - accuracy: 0.9298 - val_loss: 0.2604 - val_accuracy: 0.9292\n",
            "Epoch 18/20\n",
            "375/375 [==============================] - 1s 3ms/step - loss: 0.2572 - accuracy: 0.9291 - val_loss: 0.2596 - val_accuracy: 0.9312\n",
            "Epoch 19/20\n",
            "375/375 [==============================] - 1s 3ms/step - loss: 0.2563 - accuracy: 0.9303 - val_loss: 0.2602 - val_accuracy: 0.9314\n",
            "Epoch 20/20\n",
            "375/375 [==============================] - 1s 3ms/step - loss: 0.2555 - accuracy: 0.9299 - val_loss: 0.2602 - val_accuracy: 0.9312\n"
          ]
        }
      ],
      "source": [
        "model = keras.Sequential([layers.Dense(10, activation=\"softmax\")])\n",
        "model.compile(optimizer=\"rmsprop\",\n",
        "              loss=\"sparse_categorical_crossentropy\",\n",
        "              metrics=[\"accuracy\"])\n",
        "history_small_model = model.fit(\n",
        "    train_images, train_labels,\n",
        "    epochs=20,\n",
        "    batch_size=128,\n",
        "    validation_split=0.2)"
      ]
    },
    {
      "cell_type": "code",
      "execution_count": null,
      "metadata": {
        "colab": {
          "base_uri": "https://localhost:8080/",
          "height": 312
        },
        "id": "-Zv5jlIkmjam",
        "outputId": "658abeae-5133-4d91-dd6e-36dc29617ffa"
      },
      "outputs": [
        {
          "output_type": "execute_result",
          "data": {
            "text/plain": [
              "<matplotlib.legend.Legend at 0x7fd77a4e4250>"
            ]
          },
          "metadata": {},
          "execution_count": 8
        },
        {
          "output_type": "display_data",
          "data": {
            "text/plain": [
              "<Figure size 432x288 with 1 Axes>"
            ],
            "image/png": "[encoded data removed]"
          },
          "metadata": {
            "needs_background": "light"
          }
        }
      ],
      "source": [
        "import matplotlib.pyplot as plt\n",
        "val_loss = history_small_model.history[\"val_loss\"]\n",
        "epochs = range(1, 21)\n",
        "plt.plot(epochs, val_loss, \"b--\",\n",
        "         label=\"Validation loss\")\n",
        "plt.title(\"Effect of insufficient model capacity on validation loss\")\n",
        "plt.xlabel(\"Epochs\")\n",
        "plt.ylabel(\"Loss\")\n",
        "plt.legend()"
      ]
    },
    {
      "cell_type": "code",
      "execution_count": null,
      "metadata": {
        "colab": {
          "base_uri": "https://localhost:8080/"
        },
        "id": "Zw8Wy6lbmjam",
        "outputId": "d6c4a5f1-9fc0-4789-a8a0-33f000f139ca"
      },
      "outputs": [
        {
          "output_type": "stream",
          "name": "stdout",
          "text": [
            "Epoch 1/20\n",
            "375/375 [==============================] - 3s 6ms/step - loss: 0.3512 - accuracy: 0.8998 - val_loss: 0.1770 - val_accuracy: 0.9482\n",
            "Epoch 2/20\n",
            "375/375 [==============================] - 2s 6ms/step - loss: 0.1597 - accuracy: 0.9524 - val_loss: 0.1411 - val_accuracy: 0.9581\n",
            "Epoch 3/20\n",
            "375/375 [==============================] - 2s 6ms/step - loss: 0.1138 - accuracy: 0.9657 - val_loss: 0.1141 - val_accuracy: 0.9643\n",
            "Epoch 4/20\n",
            "375/375 [==============================] - 2s 6ms/step - loss: 0.0891 - accuracy: 0.9727 - val_loss: 0.1035 - val_accuracy: 0.9682\n",
            "Epoch 5/20\n",
            "375/375 [==============================] - 2s 6ms/step - loss: 0.0717 - accuracy: 0.9784 - val_loss: 0.1040 - val_accuracy: 0.9695\n",
            "Epoch 6/20\n",
            "375/375 [==============================] - 2s 6ms/step - loss: 0.0597 - accuracy: 0.9819 - val_loss: 0.1106 - val_accuracy: 0.9681\n",
            "Epoch 7/20\n",
            "375/375 [==============================] - 2s 6ms/step - loss: 0.0508 - accuracy: 0.9845 - val_loss: 0.1021 - val_accuracy: 0.9722\n",
            "Epoch 8/20\n",
            "375/375 [==============================] - 2s 6ms/step - loss: 0.0413 - accuracy: 0.9875 - val_loss: 0.0993 - val_accuracy: 0.9712\n",
            "Epoch 9/20\n",
            "375/375 [==============================] - 2s 5ms/step - loss: 0.0347 - accuracy: 0.9890 - val_loss: 0.0960 - val_accuracy: 0.9742\n",
            "Epoch 10/20\n",
            "375/375 [==============================] - 2s 6ms/step - loss: 0.0307 - accuracy: 0.9900 - val_loss: 0.0998 - val_accuracy: 0.9746\n",
            "Epoch 11/20\n",
            "375/375 [==============================] - 2s 6ms/step - loss: 0.0243 - accuracy: 0.9924 - val_loss: 0.1076 - val_accuracy: 0.9732\n",
            "Epoch 12/20\n",
            "375/375 [==============================] - 2s 6ms/step - loss: 0.0216 - accuracy: 0.9931 - val_loss: 0.1084 - val_accuracy: 0.9735\n",
            "Epoch 13/20\n",
            "375/375 [==============================] - 2s 6ms/step - loss: 0.0176 - accuracy: 0.9944 - val_loss: 0.1092 - val_accuracy: 0.9756\n",
            "Epoch 14/20\n",
            "375/375 [==============================] - 2s 6ms/step - loss: 0.0145 - accuracy: 0.9955 - val_loss: 0.1207 - val_accuracy: 0.9756\n",
            "Epoch 15/20\n",
            "375/375 [==============================] - 2s 6ms/step - loss: 0.0130 - accuracy: 0.9957 - val_loss: 0.1211 - val_accuracy: 0.9753\n",
            "Epoch 16/20\n",
            "375/375 [==============================] - 2s 6ms/step - loss: 0.0114 - accuracy: 0.9968 - val_loss: 0.1255 - val_accuracy: 0.9744\n",
            "Epoch 17/20\n",
            "375/375 [==============================] - 2s 6ms/step - loss: 0.0099 - accuracy: 0.9968 - val_loss: 0.1259 - val_accuracy: 0.9748\n",
            "Epoch 18/20\n",
            "375/375 [==============================] - 2s 6ms/step - loss: 0.0086 - accuracy: 0.9974 - val_loss: 0.1306 - val_accuracy: 0.9748\n",
            "Epoch 19/20\n",
            "375/375 [==============================] - 2s 6ms/step - loss: 0.0071 - accuracy: 0.9979 - val_loss: 0.1407 - val_accuracy: 0.9734\n",
            "Epoch 20/20\n",
            "375/375 [==============================] - 2s 6ms/step - loss: 0.0064 - accuracy: 0.9980 - val_loss: 0.1451 - val_accuracy: 0.9742\n"
          ]
        }
      ],
      "source": [
        "model = keras.Sequential([\n",
        "    layers.Dense(96, activation=\"relu\"),\n",
        "    layers.Dense(96, activation=\"relu\"),\n",
        "    layers.Dense(10, activation=\"softmax\"),\n",
        "])\n",
        "model.compile(optimizer=\"rmsprop\",\n",
        "              loss=\"sparse_categorical_crossentropy\",\n",
        "              metrics=[\"accuracy\"])\n",
        "history_large_model = model.fit(\n",
        "    train_images, train_labels,\n",
        "    epochs=20,\n",
        "    batch_size=128,\n",
        "    validation_split=0.2)"
      ]
    },
    {
      "cell_type": "markdown",
      "metadata": {
        "id": "y-TkVkwCmjan"
      },
      "source": [
        "## Improving generalization"
      ]
    },
    {
      "cell_type": "markdown",
      "metadata": {
        "id": "J2Q4H3kfmjan"
      },
      "source": [
        "### Dataset curation"
      ]
    },
    {
      "cell_type": "markdown",
      "metadata": {
        "id": "zOgkKbjRmjan"
      },
      "source": [
        "### Feature engineering"
      ]
    },
    {
      "cell_type": "markdown",
      "metadata": {
        "id": "J-lpOMAjmjan"
      },
      "source": [
        "### Using early stopping"
      ]
    },
    {
      "cell_type": "markdown",
      "metadata": {
        "id": "w0lpx142mjan"
      },
      "source": [
        "### Regularizing your model"
      ]
    },
    {
      "cell_type": "markdown",
      "metadata": {
        "id": "LCOWFJ47mjan"
      },
      "source": [
        "#### Reducing the network's size"
      ]
    },
    {
      "cell_type": "markdown",
      "metadata": {
        "id": "1U3MHyWPmjan"
      },
      "source": [
        "**Original model**"
      ]
    },
    {
      "cell_type": "code",
      "execution_count": null,
      "metadata": {
        "colab": {
          "base_uri": "https://localhost:8080/"
        },
        "id": "jdxEgbOjmjan",
        "outputId": "3e021384-d4b1-4055-a434-d19983e0277f"
      },
      "outputs": [
        {
          "output_type": "stream",
          "name": "stdout",
          "text": [
            "Downloading data from https://storage.googleapis.com/tensorflow/tf-keras-datasets/imdb.npz\n",
            "17464789/17464789 [==============================] - 0s 0us/step\n",
            "Epoch 1/20\n",
            "30/30 [==============================] - 2s 44ms/step - loss: 0.5559 - accuracy: 0.7806 - val_loss: 0.4269 - val_accuracy: 0.8683\n",
            "Epoch 2/20\n",
            "30/30 [==============================] - 1s 44ms/step - loss: 0.3443 - accuracy: 0.8977 - val_loss: 0.3223 - val_accuracy: 0.8866\n",
            "Epoch 3/20\n",
            "30/30 [==============================] - 1s 49ms/step - loss: 0.2510 - accuracy: 0.9193 - val_loss: 0.3125 - val_accuracy: 0.8734\n",
            "Epoch 4/20\n",
            "30/30 [==============================] - 1s 37ms/step - loss: 0.1973 - accuracy: 0.9363 - val_loss: 0.2775 - val_accuracy: 0.8922\n",
            "Epoch 5/20\n",
            "30/30 [==============================] - 1s 33ms/step - loss: 0.1614 - accuracy: 0.9491 - val_loss: 0.3026 - val_accuracy: 0.8787\n",
            "Epoch 6/20\n",
            "30/30 [==============================] - 1s 34ms/step - loss: 0.1336 - accuracy: 0.9569 - val_loss: 0.2874 - val_accuracy: 0.8884\n",
            "Epoch 7/20\n",
            "30/30 [==============================] - 1s 34ms/step - loss: 0.1119 - accuracy: 0.9657 - val_loss: 0.3050 - val_accuracy: 0.8839\n",
            "Epoch 8/20\n",
            "30/30 [==============================] - 1s 33ms/step - loss: 0.0955 - accuracy: 0.9717 - val_loss: 0.3281 - val_accuracy: 0.8794\n",
            "Epoch 9/20\n",
            "30/30 [==============================] - 1s 34ms/step - loss: 0.0803 - accuracy: 0.9783 - val_loss: 0.3385 - val_accuracy: 0.8796\n",
            "Epoch 10/20\n",
            "30/30 [==============================] - 1s 34ms/step - loss: 0.0677 - accuracy: 0.9823 - val_loss: 0.3520 - val_accuracy: 0.8813\n",
            "Epoch 11/20\n",
            "30/30 [==============================] - 1s 34ms/step - loss: 0.0555 - accuracy: 0.9864 - val_loss: 0.3808 - val_accuracy: 0.8782\n",
            "Epoch 12/20\n",
            "30/30 [==============================] - 1s 34ms/step - loss: 0.0486 - accuracy: 0.9879 - val_loss: 0.4086 - val_accuracy: 0.8760\n",
            "Epoch 13/20\n",
            "30/30 [==============================] - 1s 34ms/step - loss: 0.0389 - accuracy: 0.9913 - val_loss: 0.4363 - val_accuracy: 0.8749\n",
            "Epoch 14/20\n",
            "30/30 [==============================] - 1s 34ms/step - loss: 0.0324 - accuracy: 0.9925 - val_loss: 0.4621 - val_accuracy: 0.8736\n",
            "Epoch 15/20\n",
            "30/30 [==============================] - 1s 34ms/step - loss: 0.0251 - accuracy: 0.9954 - val_loss: 0.4922 - val_accuracy: 0.8722\n",
            "Epoch 16/20\n",
            "30/30 [==============================] - 1s 34ms/step - loss: 0.0213 - accuracy: 0.9961 - val_loss: 0.5296 - val_accuracy: 0.8696\n",
            "Epoch 17/20\n",
            "30/30 [==============================] - 1s 34ms/step - loss: 0.0159 - accuracy: 0.9976 - val_loss: 0.5682 - val_accuracy: 0.8685\n",
            "Epoch 18/20\n",
            "30/30 [==============================] - 1s 34ms/step - loss: 0.0142 - accuracy: 0.9975 - val_loss: 0.5912 - val_accuracy: 0.8672\n",
            "Epoch 19/20\n",
            "30/30 [==============================] - 1s 33ms/step - loss: 0.0092 - accuracy: 0.9991 - val_loss: 0.6345 - val_accuracy: 0.8670\n",
            "Epoch 20/20\n",
            "30/30 [==============================] - 1s 34ms/step - loss: 0.0089 - accuracy: 0.9989 - val_loss: 0.6679 - val_accuracy: 0.8650\n"
          ]
        }
      ],
      "source": [
        "from tensorflow.keras.datasets import imdb\n",
        "(train_data, train_labels), _ = imdb.load_data(num_words=10000)\n",
        "\n",
        "def vectorize_sequences(sequences, dimension=10000):\n",
        "    results = np.zeros((len(sequences), dimension))\n",
        "    for i, sequence in enumerate(sequences):\n",
        "        results[i, sequence] = 1.\n",
        "    return results\n",
        "train_data = vectorize_sequences(train_data)\n",
        "\n",
        "model = keras.Sequential([\n",
        "    layers.Dense(16, activation=\"relu\"),\n",
        "    layers.Dense(16, activation=\"relu\"),\n",
        "    layers.Dense(1, activation=\"sigmoid\")\n",
        "])\n",
        "model.compile(optimizer=\"rmsprop\",\n",
        "              loss=\"binary_crossentropy\",\n",
        "              metrics=[\"accuracy\"])\n",
        "history_original = model.fit(train_data, train_labels,\n",
        "                             epochs=20, batch_size=512, validation_split=0.4)"
      ]
    },
    {
      "cell_type": "markdown",
      "metadata": {
        "id": "GcKg2anymjan"
      },
      "source": [
        "**Version of the model with lower capacity**"
      ]
    },
    {
      "cell_type": "code",
      "execution_count": null,
      "metadata": {
        "colab": {
          "base_uri": "https://localhost:8080/"
        },
        "id": "GeGXLR2Qmjao",
        "outputId": "25ab02a6-4a2b-42cf-df56-6fd733232102"
      },
      "outputs": [
        {
          "output_type": "stream",
          "name": "stdout",
          "text": [
            "Epoch 1/20\n",
            "30/30 [==============================] - 2s 52ms/step - loss: 0.6270 - accuracy: 0.7655 - val_loss: 0.5641 - val_accuracy: 0.8275\n",
            "Epoch 2/20\n",
            "30/30 [==============================] - 2s 61ms/step - loss: 0.5058 - accuracy: 0.8655 - val_loss: 0.4721 - val_accuracy: 0.8489\n",
            "Epoch 3/20\n",
            "30/30 [==============================] - 1s 47ms/step - loss: 0.4139 - accuracy: 0.8855 - val_loss: 0.4004 - val_accuracy: 0.8711\n",
            "Epoch 4/20\n",
            "30/30 [==============================] - 1s 36ms/step - loss: 0.3434 - accuracy: 0.8993 - val_loss: 0.3513 - val_accuracy: 0.8778\n",
            "Epoch 5/20\n",
            "30/30 [==============================] - 1s 31ms/step - loss: 0.2906 - accuracy: 0.9109 - val_loss: 0.3186 - val_accuracy: 0.8837\n",
            "Epoch 6/20\n",
            "30/30 [==============================] - 1s 35ms/step - loss: 0.2506 - accuracy: 0.9217 - val_loss: 0.2991 - val_accuracy: 0.8846\n",
            "Epoch 7/20\n",
            "30/30 [==============================] - 1s 35ms/step - loss: 0.2193 - accuracy: 0.9311 - val_loss: 0.2842 - val_accuracy: 0.8900\n",
            "Epoch 8/20\n",
            "30/30 [==============================] - 1s 32ms/step - loss: 0.1939 - accuracy: 0.9379 - val_loss: 0.2773 - val_accuracy: 0.8898\n",
            "Epoch 9/20\n",
            "30/30 [==============================] - 1s 31ms/step - loss: 0.1736 - accuracy: 0.9451 - val_loss: 0.2730 - val_accuracy: 0.8918\n",
            "Epoch 10/20\n",
            "30/30 [==============================] - 1s 32ms/step - loss: 0.1565 - accuracy: 0.9521 - val_loss: 0.2714 - val_accuracy: 0.8921\n",
            "Epoch 11/20\n",
            "30/30 [==============================] - 1s 32ms/step - loss: 0.1416 - accuracy: 0.9561 - val_loss: 0.2808 - val_accuracy: 0.8867\n",
            "Epoch 12/20\n",
            "30/30 [==============================] - 1s 32ms/step - loss: 0.1286 - accuracy: 0.9601 - val_loss: 0.2809 - val_accuracy: 0.8894\n",
            "Epoch 13/20\n",
            "30/30 [==============================] - 1s 32ms/step - loss: 0.1172 - accuracy: 0.9659 - val_loss: 0.2823 - val_accuracy: 0.8887\n",
            "Epoch 14/20\n",
            "30/30 [==============================] - 1s 32ms/step - loss: 0.1067 - accuracy: 0.9690 - val_loss: 0.2927 - val_accuracy: 0.8872\n",
            "Epoch 15/20\n",
            "30/30 [==============================] - 1s 31ms/step - loss: 0.0972 - accuracy: 0.9714 - val_loss: 0.2981 - val_accuracy: 0.8860\n",
            "Epoch 16/20\n",
            "30/30 [==============================] - 1s 32ms/step - loss: 0.0886 - accuracy: 0.9750 - val_loss: 0.3075 - val_accuracy: 0.8857\n",
            "Epoch 17/20\n",
            "30/30 [==============================] - 1s 32ms/step - loss: 0.0810 - accuracy: 0.9788 - val_loss: 0.3184 - val_accuracy: 0.8851\n",
            "Epoch 18/20\n",
            "30/30 [==============================] - 1s 32ms/step - loss: 0.0740 - accuracy: 0.9805 - val_loss: 0.3291 - val_accuracy: 0.8847\n",
            "Epoch 19/20\n",
            "30/30 [==============================] - 1s 31ms/step - loss: 0.0673 - accuracy: 0.9841 - val_loss: 0.3437 - val_accuracy: 0.8828\n",
            "Epoch 20/20\n",
            "30/30 [==============================] - 1s 31ms/step - loss: 0.0619 - accuracy: 0.9849 - val_loss: 0.3527 - val_accuracy: 0.8833\n"
          ]
        }
      ],
      "source": [
        "model = keras.Sequential([\n",
        "    layers.Dense(4, activation=\"relu\"),\n",
        "    layers.Dense(4, activation=\"relu\"),\n",
        "    layers.Dense(1, activation=\"sigmoid\")\n",
        "])\n",
        "model.compile(optimizer=\"rmsprop\",\n",
        "              loss=\"binary_crossentropy\",\n",
        "              metrics=[\"accuracy\"])\n",
        "history_smaller_model = model.fit(\n",
        "    train_data, train_labels,\n",
        "    epochs=20, batch_size=512, validation_split=0.4)"
      ]
    },
    {
      "cell_type": "markdown",
      "metadata": {
        "id": "RS9ceR3lmjao"
      },
      "source": [
        "**Version of the model with higher capacity**"
      ]
    },
    {
      "cell_type": "code",
      "execution_count": null,
      "metadata": {
        "colab": {
          "base_uri": "https://localhost:8080/"
        },
        "id": "8oCRnn2Imjao",
        "outputId": "7c0a686e-156a-4fe4-cf13-251f85b5bc79"
      },
      "outputs": [
        {
          "output_type": "stream",
          "name": "stdout",
          "text": [
            "Epoch 1/20\n",
            "30/30 [==============================] - 10s 317ms/step - loss: 0.5372 - accuracy: 0.7546 - val_loss: 0.3231 - val_accuracy: 0.8716\n",
            "Epoch 2/20\n",
            "30/30 [==============================] - 9s 301ms/step - loss: 0.2571 - accuracy: 0.8987 - val_loss: 0.2744 - val_accuracy: 0.8889\n",
            "Epoch 3/20\n",
            "30/30 [==============================] - 9s 305ms/step - loss: 0.1426 - accuracy: 0.9449 - val_loss: 0.3240 - val_accuracy: 0.8743\n",
            "Epoch 4/20\n",
            "30/30 [==============================] - 9s 303ms/step - loss: 0.0711 - accuracy: 0.9767 - val_loss: 0.4786 - val_accuracy: 0.8644\n",
            "Epoch 5/20\n",
            "30/30 [==============================] - 9s 300ms/step - loss: 0.0988 - accuracy: 0.9779 - val_loss: 0.3448 - val_accuracy: 0.8892\n",
            "Epoch 6/20\n",
            "30/30 [==============================] - 9s 300ms/step - loss: 0.0051 - accuracy: 0.9994 - val_loss: 0.5101 - val_accuracy: 0.8878\n",
            "Epoch 7/20\n",
            "30/30 [==============================] - 9s 299ms/step - loss: 7.2425e-04 - accuracy: 0.9999 - val_loss: 0.6237 - val_accuracy: 0.8860\n",
            "Epoch 8/20\n",
            "30/30 [==============================] - 9s 300ms/step - loss: 1.0297e-04 - accuracy: 1.0000 - val_loss: 0.7546 - val_accuracy: 0.8847\n",
            "Epoch 9/20\n",
            "30/30 [==============================] - 9s 298ms/step - loss: 0.2328 - accuracy: 0.9758 - val_loss: 0.5228 - val_accuracy: 0.8857\n",
            "Epoch 10/20\n",
            "30/30 [==============================] - 9s 300ms/step - loss: 3.4453e-04 - accuracy: 1.0000 - val_loss: 0.5958 - val_accuracy: 0.8858\n",
            "Epoch 11/20\n",
            "30/30 [==============================] - 9s 301ms/step - loss: 1.0525e-04 - accuracy: 1.0000 - val_loss: 0.6788 - val_accuracy: 0.8849\n",
            "Epoch 12/20\n",
            "30/30 [==============================] - 9s 300ms/step - loss: 3.3568e-05 - accuracy: 1.0000 - val_loss: 0.7632 - val_accuracy: 0.8851\n",
            "Epoch 13/20\n",
            "30/30 [==============================] - 9s 302ms/step - loss: 9.3706e-06 - accuracy: 1.0000 - val_loss: 0.8497 - val_accuracy: 0.8849\n",
            "Epoch 14/20\n",
            "30/30 [==============================] - 9s 303ms/step - loss: 2.6857e-06 - accuracy: 1.0000 - val_loss: 0.9490 - val_accuracy: 0.8839\n",
            "Epoch 15/20\n",
            "30/30 [==============================] - 9s 309ms/step - loss: 8.6178e-07 - accuracy: 1.0000 - val_loss: 1.0193 - val_accuracy: 0.8857\n",
            "Epoch 16/20\n",
            "30/30 [==============================] - 9s 304ms/step - loss: 3.0206e-07 - accuracy: 1.0000 - val_loss: 1.1011 - val_accuracy: 0.8848\n",
            "Epoch 17/20\n",
            "30/30 [==============================] - 10s 353ms/step - loss: 1.1679e-07 - accuracy: 1.0000 - val_loss: 1.1598 - val_accuracy: 0.8855\n",
            "Epoch 18/20\n",
            "30/30 [==============================] - 9s 304ms/step - loss: 5.0692e-08 - accuracy: 1.0000 - val_loss: 1.2074 - val_accuracy: 0.8853\n",
            "Epoch 19/20\n",
            "30/30 [==============================] - 9s 299ms/step - loss: 2.7610e-08 - accuracy: 1.0000 - val_loss: 1.2455 - val_accuracy: 0.8854\n",
            "Epoch 20/20\n",
            "30/30 [==============================] - 9s 298ms/step - loss: 1.8283e-08 - accuracy: 1.0000 - val_loss: 1.2703 - val_accuracy: 0.8855\n"
          ]
        }
      ],
      "source": [
        "model = keras.Sequential([\n",
        "    layers.Dense(512, activation=\"relu\"),\n",
        "    layers.Dense(512, activation=\"relu\"),\n",
        "    layers.Dense(1, activation=\"sigmoid\")\n",
        "])\n",
        "model.compile(optimizer=\"rmsprop\",\n",
        "              loss=\"binary_crossentropy\",\n",
        "              metrics=[\"accuracy\"])\n",
        "history_larger_model = model.fit(\n",
        "    train_data, train_labels,\n",
        "    epochs=20, batch_size=512, validation_split=0.4)"
      ]
    },
    {
      "cell_type": "markdown",
      "metadata": {
        "id": "qWxOJymMmjao"
      },
      "source": [
        "#### Adding weight regularization"
      ]
    },
    {
      "cell_type": "markdown",
      "metadata": {
        "id": "ez5vo_inmjao"
      },
      "source": [
        "**Adding L2 weight regularization to the model**"
      ]
    },
    {
      "cell_type": "code",
      "execution_count": null,
      "metadata": {
        "colab": {
          "base_uri": "https://localhost:8080/"
        },
        "id": "VbCiLYdnmjao",
        "outputId": "b4f267f3-9a8e-4c71-e0c5-687bd620a056"
      },
      "outputs": [
        {
          "output_type": "stream",
          "name": "stdout",
          "text": [
            "Epoch 1/20\n",
            "30/30 [==============================] - 2s 49ms/step - loss: 0.6059 - accuracy: 0.7653 - val_loss: 0.4688 - val_accuracy: 0.8739\n",
            "Epoch 2/20\n",
            "30/30 [==============================] - 1s 38ms/step - loss: 0.4007 - accuracy: 0.8984 - val_loss: 0.4011 - val_accuracy: 0.8758\n",
            "Epoch 3/20\n",
            "30/30 [==============================] - 1s 38ms/step - loss: 0.3307 - accuracy: 0.9158 - val_loss: 0.3657 - val_accuracy: 0.8888\n",
            "Epoch 4/20\n",
            "30/30 [==============================] - 1s 38ms/step - loss: 0.2970 - accuracy: 0.9272 - val_loss: 0.3873 - val_accuracy: 0.8728\n",
            "Epoch 5/20\n",
            "30/30 [==============================] - 1s 38ms/step - loss: 0.2744 - accuracy: 0.9370 - val_loss: 0.3554 - val_accuracy: 0.8902\n",
            "Epoch 6/20\n",
            "30/30 [==============================] - 1s 39ms/step - loss: 0.2609 - accuracy: 0.9410 - val_loss: 0.3569 - val_accuracy: 0.8869\n",
            "Epoch 7/20\n",
            "30/30 [==============================] - 1s 39ms/step - loss: 0.2558 - accuracy: 0.9411 - val_loss: 0.3607 - val_accuracy: 0.8857\n",
            "Epoch 8/20\n",
            "30/30 [==============================] - 1s 38ms/step - loss: 0.2413 - accuracy: 0.9463 - val_loss: 0.3664 - val_accuracy: 0.8856\n",
            "Epoch 9/20\n",
            "30/30 [==============================] - 1s 38ms/step - loss: 0.2401 - accuracy: 0.9457 - val_loss: 0.3719 - val_accuracy: 0.8820\n",
            "Epoch 10/20\n",
            "30/30 [==============================] - 1s 39ms/step - loss: 0.2328 - accuracy: 0.9503 - val_loss: 0.3763 - val_accuracy: 0.8827\n",
            "Epoch 11/20\n",
            "30/30 [==============================] - 1s 41ms/step - loss: 0.2258 - accuracy: 0.9513 - val_loss: 0.3823 - val_accuracy: 0.8806\n",
            "Epoch 12/20\n",
            "30/30 [==============================] - 1s 40ms/step - loss: 0.2229 - accuracy: 0.9525 - val_loss: 0.4273 - val_accuracy: 0.8677\n",
            "Epoch 13/20\n",
            "30/30 [==============================] - 1s 39ms/step - loss: 0.2178 - accuracy: 0.9555 - val_loss: 0.4013 - val_accuracy: 0.8750\n",
            "Epoch 14/20\n",
            "30/30 [==============================] - 1s 40ms/step - loss: 0.2134 - accuracy: 0.9561 - val_loss: 0.3901 - val_accuracy: 0.8781\n",
            "Epoch 15/20\n",
            "30/30 [==============================] - 1s 39ms/step - loss: 0.2137 - accuracy: 0.9561 - val_loss: 0.3939 - val_accuracy: 0.8776\n",
            "Epoch 16/20\n",
            "30/30 [==============================] - 1s 39ms/step - loss: 0.2088 - accuracy: 0.9574 - val_loss: 0.4286 - val_accuracy: 0.8693\n",
            "Epoch 17/20\n",
            "30/30 [==============================] - 1s 38ms/step - loss: 0.2072 - accuracy: 0.9567 - val_loss: 0.4772 - val_accuracy: 0.8541\n",
            "Epoch 18/20\n",
            "30/30 [==============================] - 1s 39ms/step - loss: 0.2056 - accuracy: 0.9570 - val_loss: 0.4036 - val_accuracy: 0.8764\n",
            "Epoch 19/20\n",
            "30/30 [==============================] - 1s 39ms/step - loss: 0.1946 - accuracy: 0.9644 - val_loss: 0.4072 - val_accuracy: 0.8771\n",
            "Epoch 20/20\n",
            "30/30 [==============================] - 1s 38ms/step - loss: 0.2008 - accuracy: 0.9595 - val_loss: 0.5216 - val_accuracy: 0.8455\n"
          ]
        }
      ],
      "source": [
        "from tensorflow.keras import regularizers\n",
        "model = keras.Sequential([\n",
        "    layers.Dense(16,\n",
        "                 kernel_regularizer=regularizers.l2(0.002),\n",
        "                 activation=\"relu\"),\n",
        "    layers.Dense(16,\n",
        "                 kernel_regularizer=regularizers.l2(0.002),\n",
        "                 activation=\"relu\"),\n",
        "    layers.Dense(1, activation=\"sigmoid\")\n",
        "])\n",
        "model.compile(optimizer=\"rmsprop\",\n",
        "              loss=\"binary_crossentropy\",\n",
        "              metrics=[\"accuracy\"])\n",
        "history_l2_reg = model.fit(\n",
        "    train_data, train_labels,\n",
        "    epochs=20, batch_size=512, validation_split=0.4)"
      ]
    },
    {
      "cell_type": "markdown",
      "metadata": {
        "id": "YIcl90Ywmjao"
      },
      "source": [
        "**Different weight regularizers available in Keras**"
      ]
    },
    {
      "cell_type": "code",
      "execution_count": null,
      "metadata": {
        "colab": {
          "base_uri": "https://localhost:8080/"
        },
        "id": "YtSqoiyEmjao",
        "outputId": "9d97b15e-e9ab-42d8-cecf-c4add7e14ecf"
      },
      "outputs": [
        {
          "output_type": "execute_result",
          "data": {
            "text/plain": [
              "<keras.regularizers.L1L2 at 0x7fd76ed0a1d0>"
            ]
          },
          "metadata": {},
          "execution_count": 14
        }
      ],
      "source": [
        "from tensorflow.keras import regularizers\n",
        "regularizers.l1(0.001)\n",
        "regularizers.l1_l2(l1=0.001, l2=0.001)"
      ]
    },
    {
      "cell_type": "markdown",
      "metadata": {
        "id": "2MQHmOv3mjap"
      },
      "source": [
        "#### Adding dropout"
      ]
    },
    {
      "cell_type": "markdown",
      "metadata": {
        "id": "oh-klKMmmjap"
      },
      "source": [
        "**Adding dropout to the IMDB model**"
      ]
    },
    {
      "cell_type": "code",
      "execution_count": null,
      "metadata": {
        "colab": {
          "base_uri": "https://localhost:8080/"
        },
        "id": "_UIbgGX1mjap",
        "outputId": "368a4a2b-7666-448c-d94d-e2c53ac75057"
      },
      "outputs": [
        {
          "output_type": "stream",
          "name": "stdout",
          "text": [
            "Epoch 1/20\n",
            "30/30 [==============================] - 3s 47ms/step - loss: 0.6603 - accuracy: 0.5908 - val_loss: 0.5803 - val_accuracy: 0.7586\n",
            "Epoch 2/20\n",
            "30/30 [==============================] - 1s 38ms/step - loss: 0.5700 - accuracy: 0.7107 - val_loss: 0.4491 - val_accuracy: 0.8581\n",
            "Epoch 3/20\n",
            "30/30 [==============================] - 1s 38ms/step - loss: 0.4872 - accuracy: 0.7807 - val_loss: 0.3882 - val_accuracy: 0.8746\n",
            "Epoch 4/20\n",
            "30/30 [==============================] - 1s 38ms/step - loss: 0.4167 - accuracy: 0.8241 - val_loss: 0.3327 - val_accuracy: 0.8789\n",
            "Epoch 5/20\n",
            "30/30 [==============================] - 1s 37ms/step - loss: 0.3646 - accuracy: 0.8597 - val_loss: 0.3022 - val_accuracy: 0.8799\n",
            "Epoch 6/20\n",
            "30/30 [==============================] - 1s 37ms/step - loss: 0.3208 - accuracy: 0.8829 - val_loss: 0.2791 - val_accuracy: 0.8887\n",
            "Epoch 7/20\n",
            "30/30 [==============================] - 1s 37ms/step - loss: 0.2758 - accuracy: 0.9013 - val_loss: 0.2885 - val_accuracy: 0.8858\n",
            "Epoch 8/20\n",
            "30/30 [==============================] - 1s 37ms/step - loss: 0.2441 - accuracy: 0.9153 - val_loss: 0.2737 - val_accuracy: 0.8921\n",
            "Epoch 9/20\n",
            "30/30 [==============================] - 1s 37ms/step - loss: 0.2114 - accuracy: 0.9305 - val_loss: 0.2800 - val_accuracy: 0.8917\n",
            "Epoch 10/20\n",
            "30/30 [==============================] - 1s 37ms/step - loss: 0.1929 - accuracy: 0.9365 - val_loss: 0.2984 - val_accuracy: 0.8888\n",
            "Epoch 11/20\n",
            "30/30 [==============================] - 1s 37ms/step - loss: 0.1728 - accuracy: 0.9420 - val_loss: 0.3112 - val_accuracy: 0.8893\n",
            "Epoch 12/20\n",
            "30/30 [==============================] - 1s 37ms/step - loss: 0.1527 - accuracy: 0.9513 - val_loss: 0.3458 - val_accuracy: 0.8858\n",
            "Epoch 13/20\n",
            "30/30 [==============================] - 1s 37ms/step - loss: 0.1361 - accuracy: 0.9531 - val_loss: 0.3700 - val_accuracy: 0.8864\n",
            "Epoch 14/20\n",
            "30/30 [==============================] - 1s 37ms/step - loss: 0.1251 - accuracy: 0.9589 - val_loss: 0.3950 - val_accuracy: 0.8790\n",
            "Epoch 15/20\n",
            "30/30 [==============================] - 1s 38ms/step - loss: 0.1162 - accuracy: 0.9601 - val_loss: 0.4130 - val_accuracy: 0.8813\n",
            "Epoch 16/20\n",
            "30/30 [==============================] - 1s 37ms/step - loss: 0.1034 - accuracy: 0.9653 - val_loss: 0.4552 - val_accuracy: 0.8849\n",
            "Epoch 17/20\n",
            "30/30 [==============================] - 1s 38ms/step - loss: 0.0985 - accuracy: 0.9665 - val_loss: 0.4772 - val_accuracy: 0.8864\n",
            "Epoch 18/20\n",
            "30/30 [==============================] - 1s 38ms/step - loss: 0.0974 - accuracy: 0.9668 - val_loss: 0.4829 - val_accuracy: 0.8843\n",
            "Epoch 19/20\n",
            "30/30 [==============================] - 1s 37ms/step - loss: 0.0903 - accuracy: 0.9699 - val_loss: 0.5291 - val_accuracy: 0.8843\n",
            "Epoch 20/20\n",
            "30/30 [==============================] - 1s 37ms/step - loss: 0.0811 - accuracy: 0.9735 - val_loss: 0.5756 - val_accuracy: 0.8824\n"
          ]
        }
      ],
      "source": [
        "model = keras.Sequential([\n",
        "    layers.Dense(16, activation=\"relu\"),\n",
        "    layers.Dropout(0.5),\n",
        "    layers.Dense(16, activation=\"relu\"),\n",
        "    layers.Dropout(0.5),\n",
        "    layers.Dense(1, activation=\"sigmoid\")\n",
        "])\n",
        "model.compile(optimizer=\"rmsprop\",\n",
        "              loss=\"binary_crossentropy\",\n",
        "              metrics=[\"accuracy\"])\n",
        "history_dropout = model.fit(\n",
        "    train_data, train_labels,\n",
        "    epochs=20, batch_size=512, validation_split=0.4)"
      ]
    },
    {
      "cell_type": "markdown",
      "metadata": {
        "id": "xDXizkfFmjap"
      },
      "source": [
        "## Summary"
      ]
    }
  ],
  "metadata": {
    "colab": {
      "collapsed_sections": [],
      "provenance": [],
      "toc_visible": true
    },
    "kernelspec": {
      "display_name": "Python 3",
      "language": "python",
      "name": "python3"
    },
    "language_info": {
      "codemirror_mode": {
        "name": "ipython",
        "version": 3
      },
      "file_extension": ".py",
      "mimetype": "text/x-python",
      "name": "python",
      "nbconvert_exporter": "python",
      "pygments_lexer": "ipython3",
      "version": "3.7.0"
    }
  },
  "nbformat": 4,
  "nbformat_minor": 0
}